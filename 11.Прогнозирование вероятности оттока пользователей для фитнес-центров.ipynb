{
 "cells": [
  {
   "cell_type": "markdown",
   "metadata": {},
   "source": [
    "# Прогнозирование вероятности оттока пользователей для фитнес-центров\n",
    "Заказчик подготовил данные, которые содержат данные на месяц до оттока и факт оттока на определённый месяц. Набор данных включает следующие поля:\n",
    "- 'Churn' — факт оттока в текущем месяце;\n",
    "\n",
    "Текущие поля в датасете:\n",
    "\n",
    "Данные клиента за предыдущий до проверки факта оттока месяц:\n",
    "- 'gender' — пол;\n",
    "- 'Near_Location' — проживание или работа в районе, где находится фитнес-центр;\n",
    "- 'Partner' — сотрудник компании-партнёра клуба (сотрудничество с компаниями, чьи сотрудники могут получать скидки на абонемент — в таком случае фитнес-центр хранит информацию о работодателе клиента);\n",
    "- Promo_friends — факт первоначальной записи в рамках акции «приведи друга» (использовал промо-код от знакомого при оплате первого абонемента);\n",
    "- 'Phone' — наличие контактного телефона;\n",
    "- 'Age' — возраст;\n",
    "- 'Lifetime' — время с момента первого обращения в фитнес-центр (в месяцах).\n",
    "\n",
    "Информация на основе журнала посещений, покупок и информация о текущем статусе абонемента клиента:\n",
    "\n",
    "- 'Contract_period' — длительность текущего действующего абонемента (месяц, 3 месяца, 6 месяцев, год);\n",
    "- 'Month_to_end_contract' — срок до окончания текущего действующего абонемента (в месяцах);\n",
    "- 'Group_visits' — факт посещения групповых занятий;\n",
    "- 'Avg_class_frequency_total' — средняя частота посещений в неделю за все время с начала действия абонемента;\n",
    "- 'Avg_class_frequency_current_month' — средняя частота посещений в неделю за предыдущий месяц;\n",
    "- 'Avg_additional_charges_total' — суммарная выручка от других услуг фитнес-центра: кафе, спорт-товары, косметический и массажный салон.\n",
    "\n",
    "# Задачи\n",
    "- научиться прогнозировать вероятность оттока (на уровне следующего месяца) для каждого клиента;\n",
    "- сформировать типичные портреты клиентов: выделить несколько наиболее ярких групп и охарактеризовать их основные свойства;\n",
    "- проанализировать основные признаки, наиболее сильно влияющие на отток;\n",
    "- сформулировать основные выводы и разработать рекомендации по повышению качества работы с клиентами:\n",
    " 1. выделить целевые группы клиентов;\n",
    " 2. предложить меры по снижению оттока;\n",
    " 3. определить другие особенности взаимодействия с клиентами."
   ]
  },
  {
   "cell_type": "markdown",
   "metadata": {},
   "source": [
    "## Изучение данных из файла.\n",
    "Импортируем библиотеки."
   ]
  },
  {
   "cell_type": "code",
   "execution_count": 1,
   "metadata": {},
   "outputs": [],
   "source": [
    "import pandas as pd\n",
    "import matplotlib.pyplot as plt\n",
    "import seaborn as sns\n",
    "from sklearn.preprocessing import StandardScaler\n",
    "from sklearn.model_selection import train_test_split\n",
    "from sklearn.linear_model import Lasso, Ridge,LogisticRegression\n",
    "from sklearn.tree import DecisionTreeRegressor\n",
    "from sklearn.ensemble import RandomForestRegressor, GradientBoostingRegressor,RandomForestClassifier,GradientBoostingClassifier\n",
    "from sklearn.metrics import mean_absolute_error, mean_squared_error, r2_score,silhouette_score\n",
    "from sklearn.metrics import accuracy_score, precision_score, recall_score, f1_score,roc_auc_score\n",
    "import itertools\n",
    "from sklearn.cluster import KMeans\n",
    "from scipy.cluster.hierarchy import dendrogram, linkage\n",
    "import warnings\n",
    "warnings.filterwarnings('ignore')"
   ]
  },
  {
   "cell_type": "code",
   "execution_count": 2,
   "metadata": {},
   "outputs": [
    {
     "data": {
      "text/html": [
       "<div>\n",
       "<style scoped>\n",
       "    .dataframe tbody tr th:only-of-type {\n",
       "        vertical-align: middle;\n",
       "    }\n",
       "\n",
       "    .dataframe tbody tr th {\n",
       "        vertical-align: top;\n",
       "    }\n",
       "\n",
       "    .dataframe thead th {\n",
       "        text-align: right;\n",
       "    }\n",
       "</style>\n",
       "<table border=\"1\" class=\"dataframe\">\n",
       "  <thead>\n",
       "    <tr style=\"text-align: right;\">\n",
       "      <th></th>\n",
       "      <th>gender</th>\n",
       "      <th>Near_Location</th>\n",
       "      <th>Partner</th>\n",
       "      <th>Promo_friends</th>\n",
       "      <th>Phone</th>\n",
       "      <th>Contract_period</th>\n",
       "      <th>Group_visits</th>\n",
       "      <th>Age</th>\n",
       "      <th>Avg_additional_charges_total</th>\n",
       "      <th>Month_to_end_contract</th>\n",
       "      <th>Lifetime</th>\n",
       "      <th>Avg_class_frequency_total</th>\n",
       "      <th>Avg_class_frequency_current_month</th>\n",
       "      <th>Churn</th>\n",
       "    </tr>\n",
       "  </thead>\n",
       "  <tbody>\n",
       "    <tr>\n",
       "      <td>0</td>\n",
       "      <td>1</td>\n",
       "      <td>1</td>\n",
       "      <td>1</td>\n",
       "      <td>1</td>\n",
       "      <td>0</td>\n",
       "      <td>6</td>\n",
       "      <td>1</td>\n",
       "      <td>29</td>\n",
       "      <td>14.227470</td>\n",
       "      <td>5.0</td>\n",
       "      <td>3</td>\n",
       "      <td>0.020398</td>\n",
       "      <td>0.000000</td>\n",
       "      <td>0</td>\n",
       "    </tr>\n",
       "    <tr>\n",
       "      <td>1</td>\n",
       "      <td>0</td>\n",
       "      <td>1</td>\n",
       "      <td>0</td>\n",
       "      <td>0</td>\n",
       "      <td>1</td>\n",
       "      <td>12</td>\n",
       "      <td>1</td>\n",
       "      <td>31</td>\n",
       "      <td>113.202938</td>\n",
       "      <td>12.0</td>\n",
       "      <td>7</td>\n",
       "      <td>1.922936</td>\n",
       "      <td>1.910244</td>\n",
       "      <td>0</td>\n",
       "    </tr>\n",
       "    <tr>\n",
       "      <td>2</td>\n",
       "      <td>0</td>\n",
       "      <td>1</td>\n",
       "      <td>1</td>\n",
       "      <td>0</td>\n",
       "      <td>1</td>\n",
       "      <td>1</td>\n",
       "      <td>0</td>\n",
       "      <td>28</td>\n",
       "      <td>129.448479</td>\n",
       "      <td>1.0</td>\n",
       "      <td>2</td>\n",
       "      <td>1.859098</td>\n",
       "      <td>1.736502</td>\n",
       "      <td>0</td>\n",
       "    </tr>\n",
       "    <tr>\n",
       "      <td>3</td>\n",
       "      <td>0</td>\n",
       "      <td>1</td>\n",
       "      <td>1</td>\n",
       "      <td>1</td>\n",
       "      <td>1</td>\n",
       "      <td>12</td>\n",
       "      <td>1</td>\n",
       "      <td>33</td>\n",
       "      <td>62.669863</td>\n",
       "      <td>12.0</td>\n",
       "      <td>2</td>\n",
       "      <td>3.205633</td>\n",
       "      <td>3.357215</td>\n",
       "      <td>0</td>\n",
       "    </tr>\n",
       "    <tr>\n",
       "      <td>4</td>\n",
       "      <td>1</td>\n",
       "      <td>1</td>\n",
       "      <td>1</td>\n",
       "      <td>1</td>\n",
       "      <td>1</td>\n",
       "      <td>1</td>\n",
       "      <td>0</td>\n",
       "      <td>26</td>\n",
       "      <td>198.362265</td>\n",
       "      <td>1.0</td>\n",
       "      <td>3</td>\n",
       "      <td>1.113884</td>\n",
       "      <td>1.120078</td>\n",
       "      <td>0</td>\n",
       "    </tr>\n",
       "  </tbody>\n",
       "</table>\n",
       "</div>"
      ],
      "text/plain": [
       "   gender  Near_Location  Partner  Promo_friends  Phone  Contract_period  \\\n",
       "0       1              1        1              1      0                6   \n",
       "1       0              1        0              0      1               12   \n",
       "2       0              1        1              0      1                1   \n",
       "3       0              1        1              1      1               12   \n",
       "4       1              1        1              1      1                1   \n",
       "\n",
       "   Group_visits  Age  Avg_additional_charges_total  Month_to_end_contract  \\\n",
       "0             1   29                     14.227470                    5.0   \n",
       "1             1   31                    113.202938                   12.0   \n",
       "2             0   28                    129.448479                    1.0   \n",
       "3             1   33                     62.669863                   12.0   \n",
       "4             0   26                    198.362265                    1.0   \n",
       "\n",
       "   Lifetime  Avg_class_frequency_total  Avg_class_frequency_current_month  \\\n",
       "0         3                   0.020398                           0.000000   \n",
       "1         7                   1.922936                           1.910244   \n",
       "2         2                   1.859098                           1.736502   \n",
       "3         2                   3.205633                           3.357215   \n",
       "4         3                   1.113884                           1.120078   \n",
       "\n",
       "   Churn  \n",
       "0      0  \n",
       "1      0  \n",
       "2      0  \n",
       "3      0  \n",
       "4      0  "
      ]
     },
     "execution_count": 2,
     "metadata": {},
     "output_type": "execute_result"
    }
   ],
   "source": [
    "df = pd.read_csv('/datasets/gym_churn.csv', sep=',')\n",
    "df.head()"
   ]
  },
  {
   "cell_type": "code",
   "execution_count": 3,
   "metadata": {},
   "outputs": [
    {
     "name": "stdout",
     "output_type": "stream",
     "text": [
      "<class 'pandas.core.frame.DataFrame'>\n",
      "RangeIndex: 4000 entries, 0 to 3999\n",
      "Data columns (total 14 columns):\n",
      "gender                               4000 non-null int64\n",
      "Near_Location                        4000 non-null int64\n",
      "Partner                              4000 non-null int64\n",
      "Promo_friends                        4000 non-null int64\n",
      "Phone                                4000 non-null int64\n",
      "Contract_period                      4000 non-null int64\n",
      "Group_visits                         4000 non-null int64\n",
      "Age                                  4000 non-null int64\n",
      "Avg_additional_charges_total         4000 non-null float64\n",
      "Month_to_end_contract                4000 non-null float64\n",
      "Lifetime                             4000 non-null int64\n",
      "Avg_class_frequency_total            4000 non-null float64\n",
      "Avg_class_frequency_current_month    4000 non-null float64\n",
      "Churn                                4000 non-null int64\n",
      "dtypes: float64(4), int64(10)\n",
      "memory usage: 437.6 KB\n"
     ]
    }
   ],
   "source": [
    "df.info()"
   ]
  },
  {
   "cell_type": "code",
   "execution_count": 4,
   "metadata": {},
   "outputs": [
    {
     "data": {
      "text/plain": [
       "gender                               0.0\n",
       "Near_Location                        0.0\n",
       "Partner                              0.0\n",
       "Promo_friends                        0.0\n",
       "Phone                                0.0\n",
       "Contract_period                      0.0\n",
       "Group_visits                         0.0\n",
       "Age                                  0.0\n",
       "Avg_additional_charges_total         0.0\n",
       "Month_to_end_contract                0.0\n",
       "Lifetime                             0.0\n",
       "Avg_class_frequency_total            0.0\n",
       "Avg_class_frequency_current_month    0.0\n",
       "Churn                                0.0\n",
       "dtype: float64"
      ]
     },
     "execution_count": 4,
     "metadata": {},
     "output_type": "execute_result"
    }
   ],
   "source": [
    "df.isna().sum()*100/len(df)"
   ]
  },
  {
   "cell_type": "code",
   "execution_count": 5,
   "metadata": {
    "scrolled": true
   },
   "outputs": [
    {
     "name": "stdout",
     "output_type": "stream",
     "text": [
      "1    2041\n",
      "0    1959\n",
      "Name: gender, dtype: int64\n",
      "1    3381\n",
      "0     619\n",
      "Name: Near_Location, dtype: int64\n",
      "0    2053\n",
      "1    1947\n",
      "Name: Partner, dtype: int64\n",
      "0    2766\n",
      "1    1234\n",
      "Name: Promo_friends, dtype: int64\n",
      "1    3614\n",
      "0     386\n",
      "Name: Phone, dtype: int64\n",
      "1     2207\n",
      "12     960\n",
      "6      833\n",
      "Name: Contract_period, dtype: int64\n",
      "0    2351\n",
      "1    1649\n",
      "Name: Group_visits, dtype: int64\n",
      "29    468\n",
      "30    457\n",
      "28    447\n",
      "31    434\n",
      "27    378\n",
      "32    364\n",
      "26    300\n",
      "33    253\n",
      "25    231\n",
      "34    174\n",
      "24    148\n",
      "35     98\n",
      "23     82\n",
      "36     48\n",
      "22     33\n",
      "37     29\n",
      "21     24\n",
      "20     14\n",
      "38     10\n",
      "39      3\n",
      "19      2\n",
      "18      2\n",
      "41      1\n",
      "Name: Age, dtype: int64\n",
      "135.756722    1\n",
      "97.623617     1\n",
      "82.487277     1\n",
      "17.911351     1\n",
      "74.882931     1\n",
      "             ..\n",
      "163.080276    1\n",
      "133.640108    1\n",
      "9.838696      1\n",
      "134.699410    1\n",
      "357.046942    1\n",
      "Name: Avg_additional_charges_total, Length: 4000, dtype: int64\n",
      "1.0     2207\n",
      "6.0      645\n",
      "12.0     524\n",
      "11.0     181\n",
      "5.0      130\n",
      "10.0      82\n",
      "9.0       73\n",
      "4.0       58\n",
      "8.0       38\n",
      "7.0       25\n",
      "3.0       23\n",
      "2.0       14\n",
      "Name: Month_to_end_contract, dtype: int64\n",
      "1     843\n",
      "2     610\n",
      "3     490\n",
      "0     487\n",
      "4     383\n",
      "5     273\n",
      "6     220\n",
      "7     167\n",
      "8     111\n",
      "9     100\n",
      "10     76\n",
      "12     53\n",
      "11     48\n",
      "13     28\n",
      "14     24\n",
      "15     24\n",
      "16     15\n",
      "17     11\n",
      "19      7\n",
      "20      7\n",
      "18      7\n",
      "21      5\n",
      "24      2\n",
      "22      2\n",
      "26      2\n",
      "23      2\n",
      "29      1\n",
      "27      1\n",
      "31      1\n",
      "Name: Lifetime, dtype: int64\n",
      "0.000000    88\n",
      "3.071431     1\n",
      "3.275314     1\n",
      "2.687575     1\n",
      "0.751450     1\n",
      "            ..\n",
      "1.801802     1\n",
      "3.519139     1\n",
      "1.750208     1\n",
      "1.315297     1\n",
      "2.863927     1\n",
      "Name: Avg_class_frequency_total, Length: 3913, dtype: int64\n",
      "0.000000    181\n",
      "2.038709      1\n",
      "1.202066      1\n",
      "2.981590      1\n",
      "2.618891      1\n",
      "           ... \n",
      "1.287944      1\n",
      "2.349070      1\n",
      "3.399411      1\n",
      "0.472735      1\n",
      "3.720636      1\n",
      "Name: Avg_class_frequency_current_month, Length: 3820, dtype: int64\n",
      "0    2939\n",
      "1    1061\n",
      "Name: Churn, dtype: int64\n"
     ]
    }
   ],
   "source": [
    "for row in df: \n",
    "    print(df[row].value_counts()) "
   ]
  },
  {
   "cell_type": "code",
   "execution_count": 6,
   "metadata": {},
   "outputs": [
    {
     "data": {
      "text/plain": [
       "0"
      ]
     },
     "execution_count": 6,
     "metadata": {},
     "output_type": "execute_result"
    }
   ],
   "source": [
    "df.duplicated().sum()"
   ]
  },
  {
   "cell_type": "markdown",
   "metadata": {},
   "source": [
    "Датасет состоит из 14 столбцов и 4000 строк. Пропущенных значений нет, полных дубликатов нет, нули присутствуют(имеют место быть). Заменить названия столбцов к нижнему регистру."
   ]
  },
  {
   "cell_type": "markdown",
   "metadata": {},
   "source": [
    "### Предобработка данных.\n",
    "Приведите к нижнему регистру"
   ]
  },
  {
   "cell_type": "code",
   "execution_count": 7,
   "metadata": {},
   "outputs": [
    {
     "data": {
      "text/html": [
       "<div>\n",
       "<style scoped>\n",
       "    .dataframe tbody tr th:only-of-type {\n",
       "        vertical-align: middle;\n",
       "    }\n",
       "\n",
       "    .dataframe tbody tr th {\n",
       "        vertical-align: top;\n",
       "    }\n",
       "\n",
       "    .dataframe thead th {\n",
       "        text-align: right;\n",
       "    }\n",
       "</style>\n",
       "<table border=\"1\" class=\"dataframe\">\n",
       "  <thead>\n",
       "    <tr style=\"text-align: right;\">\n",
       "      <th></th>\n",
       "      <th>gender</th>\n",
       "      <th>near_location</th>\n",
       "      <th>partner</th>\n",
       "      <th>promo_friends</th>\n",
       "      <th>phone</th>\n",
       "      <th>contract_period</th>\n",
       "      <th>group_visits</th>\n",
       "      <th>age</th>\n",
       "      <th>avg_additional_charges_total</th>\n",
       "      <th>month_to_end_contract</th>\n",
       "      <th>lifetime</th>\n",
       "      <th>avg_class_frequency_total</th>\n",
       "      <th>avg_class_frequency_current_month</th>\n",
       "      <th>churn</th>\n",
       "    </tr>\n",
       "  </thead>\n",
       "  <tbody>\n",
       "    <tr>\n",
       "      <td>0</td>\n",
       "      <td>1</td>\n",
       "      <td>1</td>\n",
       "      <td>1</td>\n",
       "      <td>1</td>\n",
       "      <td>0</td>\n",
       "      <td>6</td>\n",
       "      <td>1</td>\n",
       "      <td>29</td>\n",
       "      <td>14.227470</td>\n",
       "      <td>5.0</td>\n",
       "      <td>3</td>\n",
       "      <td>0.020398</td>\n",
       "      <td>0.000000</td>\n",
       "      <td>0</td>\n",
       "    </tr>\n",
       "    <tr>\n",
       "      <td>1</td>\n",
       "      <td>0</td>\n",
       "      <td>1</td>\n",
       "      <td>0</td>\n",
       "      <td>0</td>\n",
       "      <td>1</td>\n",
       "      <td>12</td>\n",
       "      <td>1</td>\n",
       "      <td>31</td>\n",
       "      <td>113.202938</td>\n",
       "      <td>12.0</td>\n",
       "      <td>7</td>\n",
       "      <td>1.922936</td>\n",
       "      <td>1.910244</td>\n",
       "      <td>0</td>\n",
       "    </tr>\n",
       "    <tr>\n",
       "      <td>2</td>\n",
       "      <td>0</td>\n",
       "      <td>1</td>\n",
       "      <td>1</td>\n",
       "      <td>0</td>\n",
       "      <td>1</td>\n",
       "      <td>1</td>\n",
       "      <td>0</td>\n",
       "      <td>28</td>\n",
       "      <td>129.448479</td>\n",
       "      <td>1.0</td>\n",
       "      <td>2</td>\n",
       "      <td>1.859098</td>\n",
       "      <td>1.736502</td>\n",
       "      <td>0</td>\n",
       "    </tr>\n",
       "    <tr>\n",
       "      <td>3</td>\n",
       "      <td>0</td>\n",
       "      <td>1</td>\n",
       "      <td>1</td>\n",
       "      <td>1</td>\n",
       "      <td>1</td>\n",
       "      <td>12</td>\n",
       "      <td>1</td>\n",
       "      <td>33</td>\n",
       "      <td>62.669863</td>\n",
       "      <td>12.0</td>\n",
       "      <td>2</td>\n",
       "      <td>3.205633</td>\n",
       "      <td>3.357215</td>\n",
       "      <td>0</td>\n",
       "    </tr>\n",
       "    <tr>\n",
       "      <td>4</td>\n",
       "      <td>1</td>\n",
       "      <td>1</td>\n",
       "      <td>1</td>\n",
       "      <td>1</td>\n",
       "      <td>1</td>\n",
       "      <td>1</td>\n",
       "      <td>0</td>\n",
       "      <td>26</td>\n",
       "      <td>198.362265</td>\n",
       "      <td>1.0</td>\n",
       "      <td>3</td>\n",
       "      <td>1.113884</td>\n",
       "      <td>1.120078</td>\n",
       "      <td>0</td>\n",
       "    </tr>\n",
       "  </tbody>\n",
       "</table>\n",
       "</div>"
      ],
      "text/plain": [
       "   gender  near_location  partner  promo_friends  phone  contract_period  \\\n",
       "0       1              1        1              1      0                6   \n",
       "1       0              1        0              0      1               12   \n",
       "2       0              1        1              0      1                1   \n",
       "3       0              1        1              1      1               12   \n",
       "4       1              1        1              1      1                1   \n",
       "\n",
       "   group_visits  age  avg_additional_charges_total  month_to_end_contract  \\\n",
       "0             1   29                     14.227470                    5.0   \n",
       "1             1   31                    113.202938                   12.0   \n",
       "2             0   28                    129.448479                    1.0   \n",
       "3             1   33                     62.669863                   12.0   \n",
       "4             0   26                    198.362265                    1.0   \n",
       "\n",
       "   lifetime  avg_class_frequency_total  avg_class_frequency_current_month  \\\n",
       "0         3                   0.020398                           0.000000   \n",
       "1         7                   1.922936                           1.910244   \n",
       "2         2                   1.859098                           1.736502   \n",
       "3         2                   3.205633                           3.357215   \n",
       "4         3                   1.113884                           1.120078   \n",
       "\n",
       "   churn  \n",
       "0      0  \n",
       "1      0  \n",
       "2      0  \n",
       "3      0  \n",
       "4      0  "
      ]
     },
     "execution_count": 7,
     "metadata": {},
     "output_type": "execute_result"
    }
   ],
   "source": [
    "df.columns = df.columns.str.lower()\n",
    "df.head()"
   ]
  },
  {
   "cell_type": "markdown",
   "metadata": {},
   "source": [
    "## Проведите исследовательский анализ данных (EDA)\n",
    "- Посмотрите на датасет: есть ли в нем отсутствующие признаки, изучите средние значения и стандартные отклонения (пригодится метод describe());\n",
    "- Посмотрите на средние значения признаков в двух группах — тех, кто ушел в отток и тех, кто остался (воспользуйтесь методом groupby());\n",
    "- Постройте столбчатые гистограммы и распределения признаков для тех, кто ушёл (отток) и тех, кто остался (не попали в отток);\n",
    "- Постройте матрицу корреляций и отобразите её."
   ]
  },
  {
   "cell_type": "markdown",
   "metadata": {},
   "source": [
    "- Посмотрите на датасет: есть ли в нем отсутствующие признаки, изучите средние значения и стандартные отклонения (пригодится метод describe());"
   ]
  },
  {
   "cell_type": "code",
   "execution_count": 8,
   "metadata": {},
   "outputs": [
    {
     "data": {
      "text/html": [
       "<div>\n",
       "<style scoped>\n",
       "    .dataframe tbody tr th:only-of-type {\n",
       "        vertical-align: middle;\n",
       "    }\n",
       "\n",
       "    .dataframe tbody tr th {\n",
       "        vertical-align: top;\n",
       "    }\n",
       "\n",
       "    .dataframe thead th {\n",
       "        text-align: right;\n",
       "    }\n",
       "</style>\n",
       "<table border=\"1\" class=\"dataframe\">\n",
       "  <thead>\n",
       "    <tr style=\"text-align: right;\">\n",
       "      <th></th>\n",
       "      <th>count</th>\n",
       "      <th>mean</th>\n",
       "      <th>std</th>\n",
       "      <th>min</th>\n",
       "      <th>25%</th>\n",
       "      <th>50%</th>\n",
       "      <th>75%</th>\n",
       "      <th>max</th>\n",
       "    </tr>\n",
       "  </thead>\n",
       "  <tbody>\n",
       "    <tr>\n",
       "      <td>gender</td>\n",
       "      <td>4000.0</td>\n",
       "      <td>0.510250</td>\n",
       "      <td>0.499957</td>\n",
       "      <td>0.000000</td>\n",
       "      <td>0.000000</td>\n",
       "      <td>1.000000</td>\n",
       "      <td>1.000000</td>\n",
       "      <td>1.000000</td>\n",
       "    </tr>\n",
       "    <tr>\n",
       "      <td>near_location</td>\n",
       "      <td>4000.0</td>\n",
       "      <td>0.845250</td>\n",
       "      <td>0.361711</td>\n",
       "      <td>0.000000</td>\n",
       "      <td>1.000000</td>\n",
       "      <td>1.000000</td>\n",
       "      <td>1.000000</td>\n",
       "      <td>1.000000</td>\n",
       "    </tr>\n",
       "    <tr>\n",
       "      <td>partner</td>\n",
       "      <td>4000.0</td>\n",
       "      <td>0.486750</td>\n",
       "      <td>0.499887</td>\n",
       "      <td>0.000000</td>\n",
       "      <td>0.000000</td>\n",
       "      <td>0.000000</td>\n",
       "      <td>1.000000</td>\n",
       "      <td>1.000000</td>\n",
       "    </tr>\n",
       "    <tr>\n",
       "      <td>promo_friends</td>\n",
       "      <td>4000.0</td>\n",
       "      <td>0.308500</td>\n",
       "      <td>0.461932</td>\n",
       "      <td>0.000000</td>\n",
       "      <td>0.000000</td>\n",
       "      <td>0.000000</td>\n",
       "      <td>1.000000</td>\n",
       "      <td>1.000000</td>\n",
       "    </tr>\n",
       "    <tr>\n",
       "      <td>phone</td>\n",
       "      <td>4000.0</td>\n",
       "      <td>0.903500</td>\n",
       "      <td>0.295313</td>\n",
       "      <td>0.000000</td>\n",
       "      <td>1.000000</td>\n",
       "      <td>1.000000</td>\n",
       "      <td>1.000000</td>\n",
       "      <td>1.000000</td>\n",
       "    </tr>\n",
       "    <tr>\n",
       "      <td>contract_period</td>\n",
       "      <td>4000.0</td>\n",
       "      <td>4.681250</td>\n",
       "      <td>4.549706</td>\n",
       "      <td>1.000000</td>\n",
       "      <td>1.000000</td>\n",
       "      <td>1.000000</td>\n",
       "      <td>6.000000</td>\n",
       "      <td>12.000000</td>\n",
       "    </tr>\n",
       "    <tr>\n",
       "      <td>group_visits</td>\n",
       "      <td>4000.0</td>\n",
       "      <td>0.412250</td>\n",
       "      <td>0.492301</td>\n",
       "      <td>0.000000</td>\n",
       "      <td>0.000000</td>\n",
       "      <td>0.000000</td>\n",
       "      <td>1.000000</td>\n",
       "      <td>1.000000</td>\n",
       "    </tr>\n",
       "    <tr>\n",
       "      <td>age</td>\n",
       "      <td>4000.0</td>\n",
       "      <td>29.184250</td>\n",
       "      <td>3.258367</td>\n",
       "      <td>18.000000</td>\n",
       "      <td>27.000000</td>\n",
       "      <td>29.000000</td>\n",
       "      <td>31.000000</td>\n",
       "      <td>41.000000</td>\n",
       "    </tr>\n",
       "    <tr>\n",
       "      <td>avg_additional_charges_total</td>\n",
       "      <td>4000.0</td>\n",
       "      <td>146.943728</td>\n",
       "      <td>96.355602</td>\n",
       "      <td>0.148205</td>\n",
       "      <td>68.868830</td>\n",
       "      <td>136.220159</td>\n",
       "      <td>210.949625</td>\n",
       "      <td>552.590740</td>\n",
       "    </tr>\n",
       "    <tr>\n",
       "      <td>month_to_end_contract</td>\n",
       "      <td>4000.0</td>\n",
       "      <td>4.322750</td>\n",
       "      <td>4.191297</td>\n",
       "      <td>1.000000</td>\n",
       "      <td>1.000000</td>\n",
       "      <td>1.000000</td>\n",
       "      <td>6.000000</td>\n",
       "      <td>12.000000</td>\n",
       "    </tr>\n",
       "    <tr>\n",
       "      <td>lifetime</td>\n",
       "      <td>4000.0</td>\n",
       "      <td>3.724750</td>\n",
       "      <td>3.749267</td>\n",
       "      <td>0.000000</td>\n",
       "      <td>1.000000</td>\n",
       "      <td>3.000000</td>\n",
       "      <td>5.000000</td>\n",
       "      <td>31.000000</td>\n",
       "    </tr>\n",
       "    <tr>\n",
       "      <td>avg_class_frequency_total</td>\n",
       "      <td>4000.0</td>\n",
       "      <td>1.879020</td>\n",
       "      <td>0.972245</td>\n",
       "      <td>0.000000</td>\n",
       "      <td>1.180875</td>\n",
       "      <td>1.832768</td>\n",
       "      <td>2.536078</td>\n",
       "      <td>6.023668</td>\n",
       "    </tr>\n",
       "    <tr>\n",
       "      <td>avg_class_frequency_current_month</td>\n",
       "      <td>4000.0</td>\n",
       "      <td>1.767052</td>\n",
       "      <td>1.052906</td>\n",
       "      <td>0.000000</td>\n",
       "      <td>0.963003</td>\n",
       "      <td>1.719574</td>\n",
       "      <td>2.510336</td>\n",
       "      <td>6.146783</td>\n",
       "    </tr>\n",
       "    <tr>\n",
       "      <td>churn</td>\n",
       "      <td>4000.0</td>\n",
       "      <td>0.265250</td>\n",
       "      <td>0.441521</td>\n",
       "      <td>0.000000</td>\n",
       "      <td>0.000000</td>\n",
       "      <td>0.000000</td>\n",
       "      <td>1.000000</td>\n",
       "      <td>1.000000</td>\n",
       "    </tr>\n",
       "  </tbody>\n",
       "</table>\n",
       "</div>"
      ],
      "text/plain": [
       "                                    count        mean        std        min  \\\n",
       "gender                             4000.0    0.510250   0.499957   0.000000   \n",
       "near_location                      4000.0    0.845250   0.361711   0.000000   \n",
       "partner                            4000.0    0.486750   0.499887   0.000000   \n",
       "promo_friends                      4000.0    0.308500   0.461932   0.000000   \n",
       "phone                              4000.0    0.903500   0.295313   0.000000   \n",
       "contract_period                    4000.0    4.681250   4.549706   1.000000   \n",
       "group_visits                       4000.0    0.412250   0.492301   0.000000   \n",
       "age                                4000.0   29.184250   3.258367  18.000000   \n",
       "avg_additional_charges_total       4000.0  146.943728  96.355602   0.148205   \n",
       "month_to_end_contract              4000.0    4.322750   4.191297   1.000000   \n",
       "lifetime                           4000.0    3.724750   3.749267   0.000000   \n",
       "avg_class_frequency_total          4000.0    1.879020   0.972245   0.000000   \n",
       "avg_class_frequency_current_month  4000.0    1.767052   1.052906   0.000000   \n",
       "churn                              4000.0    0.265250   0.441521   0.000000   \n",
       "\n",
       "                                         25%         50%         75%  \\\n",
       "gender                              0.000000    1.000000    1.000000   \n",
       "near_location                       1.000000    1.000000    1.000000   \n",
       "partner                             0.000000    0.000000    1.000000   \n",
       "promo_friends                       0.000000    0.000000    1.000000   \n",
       "phone                               1.000000    1.000000    1.000000   \n",
       "contract_period                     1.000000    1.000000    6.000000   \n",
       "group_visits                        0.000000    0.000000    1.000000   \n",
       "age                                27.000000   29.000000   31.000000   \n",
       "avg_additional_charges_total       68.868830  136.220159  210.949625   \n",
       "month_to_end_contract               1.000000    1.000000    6.000000   \n",
       "lifetime                            1.000000    3.000000    5.000000   \n",
       "avg_class_frequency_total           1.180875    1.832768    2.536078   \n",
       "avg_class_frequency_current_month   0.963003    1.719574    2.510336   \n",
       "churn                               0.000000    0.000000    1.000000   \n",
       "\n",
       "                                          max  \n",
       "gender                               1.000000  \n",
       "near_location                        1.000000  \n",
       "partner                              1.000000  \n",
       "promo_friends                        1.000000  \n",
       "phone                                1.000000  \n",
       "contract_period                     12.000000  \n",
       "group_visits                         1.000000  \n",
       "age                                 41.000000  \n",
       "avg_additional_charges_total       552.590740  \n",
       "month_to_end_contract               12.000000  \n",
       "lifetime                            31.000000  \n",
       "avg_class_frequency_total            6.023668  \n",
       "avg_class_frequency_current_month    6.146783  \n",
       "churn                                1.000000  "
      ]
     },
     "execution_count": 8,
     "metadata": {},
     "output_type": "execute_result"
    }
   ],
   "source": [
    "df.describe().T"
   ]
  },
  {
   "cell_type": "markdown",
   "metadata": {},
   "source": [
    "Сравнивая между собой средние и стандартные значения, разница не большая,выбросов нет. Заметная разница есть в столбцах 'age' и 'avg_additional_charges_total'."
   ]
  },
  {
   "cell_type": "markdown",
   "metadata": {},
   "source": [
    "- Посмотрите на средние значения признаков в двух группах — тех, кто ушел в отток и тех, кто остался (воспользуйтесь методом groupby())"
   ]
  },
  {
   "cell_type": "code",
   "execution_count": 9,
   "metadata": {},
   "outputs": [
    {
     "data": {
      "text/plain": [
       "0    2939\n",
       "1    1061\n",
       "Name: churn, dtype: int64"
      ]
     },
     "execution_count": 9,
     "metadata": {},
     "output_type": "execute_result"
    }
   ],
   "source": [
    "df['churn'].value_counts()"
   ]
  },
  {
   "cell_type": "markdown",
   "metadata": {},
   "source": [
    "Больше тех кто остается."
   ]
  },
  {
   "cell_type": "code",
   "execution_count": 10,
   "metadata": {},
   "outputs": [
    {
     "data": {
      "text/html": [
       "<div>\n",
       "<style scoped>\n",
       "    .dataframe tbody tr th:only-of-type {\n",
       "        vertical-align: middle;\n",
       "    }\n",
       "\n",
       "    .dataframe tbody tr th {\n",
       "        vertical-align: top;\n",
       "    }\n",
       "\n",
       "    .dataframe thead th {\n",
       "        text-align: right;\n",
       "    }\n",
       "</style>\n",
       "<table border=\"1\" class=\"dataframe\">\n",
       "  <thead>\n",
       "    <tr style=\"text-align: right;\">\n",
       "      <th>churn</th>\n",
       "      <th>0</th>\n",
       "      <th>1</th>\n",
       "    </tr>\n",
       "  </thead>\n",
       "  <tbody>\n",
       "    <tr>\n",
       "      <td>gender</td>\n",
       "      <td>0.510037</td>\n",
       "      <td>0.510839</td>\n",
       "    </tr>\n",
       "    <tr>\n",
       "      <td>near_location</td>\n",
       "      <td>0.873086</td>\n",
       "      <td>0.768143</td>\n",
       "    </tr>\n",
       "    <tr>\n",
       "      <td>partner</td>\n",
       "      <td>0.534195</td>\n",
       "      <td>0.355325</td>\n",
       "    </tr>\n",
       "    <tr>\n",
       "      <td>promo_friends</td>\n",
       "      <td>0.353522</td>\n",
       "      <td>0.183789</td>\n",
       "    </tr>\n",
       "    <tr>\n",
       "      <td>phone</td>\n",
       "      <td>0.903709</td>\n",
       "      <td>0.902922</td>\n",
       "    </tr>\n",
       "    <tr>\n",
       "      <td>contract_period</td>\n",
       "      <td>5.747193</td>\n",
       "      <td>1.728558</td>\n",
       "    </tr>\n",
       "    <tr>\n",
       "      <td>group_visits</td>\n",
       "      <td>0.464103</td>\n",
       "      <td>0.268615</td>\n",
       "    </tr>\n",
       "    <tr>\n",
       "      <td>age</td>\n",
       "      <td>29.976523</td>\n",
       "      <td>26.989632</td>\n",
       "    </tr>\n",
       "    <tr>\n",
       "      <td>avg_additional_charges_total</td>\n",
       "      <td>158.445715</td>\n",
       "      <td>115.082899</td>\n",
       "    </tr>\n",
       "    <tr>\n",
       "      <td>month_to_end_contract</td>\n",
       "      <td>5.283089</td>\n",
       "      <td>1.662582</td>\n",
       "    </tr>\n",
       "    <tr>\n",
       "      <td>lifetime</td>\n",
       "      <td>4.711807</td>\n",
       "      <td>0.990575</td>\n",
       "    </tr>\n",
       "    <tr>\n",
       "      <td>avg_class_frequency_total</td>\n",
       "      <td>2.024876</td>\n",
       "      <td>1.474995</td>\n",
       "    </tr>\n",
       "    <tr>\n",
       "      <td>avg_class_frequency_current_month</td>\n",
       "      <td>2.027882</td>\n",
       "      <td>1.044546</td>\n",
       "    </tr>\n",
       "  </tbody>\n",
       "</table>\n",
       "</div>"
      ],
      "text/plain": [
       "churn                                       0           1\n",
       "gender                               0.510037    0.510839\n",
       "near_location                        0.873086    0.768143\n",
       "partner                              0.534195    0.355325\n",
       "promo_friends                        0.353522    0.183789\n",
       "phone                                0.903709    0.902922\n",
       "contract_period                      5.747193    1.728558\n",
       "group_visits                         0.464103    0.268615\n",
       "age                                 29.976523   26.989632\n",
       "avg_additional_charges_total       158.445715  115.082899\n",
       "month_to_end_contract                5.283089    1.662582\n",
       "lifetime                             4.711807    0.990575\n",
       "avg_class_frequency_total            2.024876    1.474995\n",
       "avg_class_frequency_current_month    2.027882    1.044546"
      ]
     },
     "execution_count": 10,
     "metadata": {},
     "output_type": "execute_result"
    }
   ],
   "source": [
    "#df.groupby('churn').median().T\n",
    "df.groupby('churn').mean().T"
   ]
  },
  {
   "cell_type": "markdown",
   "metadata": {},
   "source": [
    "- gender - почти одинаково и мужчин и женщин,те кто ушел и те кто остался.\n",
    "- near_location - в двух категориях высокие значения.\n",
    "- partner - больше тех партнеров клуба,которые остаются.\n",
    "- promo_friends - больше клиентов по акции \"приведи друга\" и они чаще остаются.\n",
    "- phone - много коиентов кто оставил свой номер телефона. В двух категориях высокие значения.\n",
    "- contract_period - большее число клиентов с абонементом на большее количество месяцев остаются гораздо чаще.\n",
    "- group_visits - остаются больше клиентов,которые ходят на групповые занятия.\n",
    "- age - средний возраст примерно одинаковый в двух категориях.\n",
    "- avg_additional_charges_total - другими услугами пользуются примерно одинаково. Чуть больше тех кто остается.\n",
    "- month_to_end_contract\t- остаются больше клиентов,где остаток абонемента больше.\n",
    "- lifetime - остаются те кто дольше посещает фитнес.\n",
    "- avg_class_frequency_total - частота посещений в неделю значения почти одинаковы. Но больше остаются те кто чаще приходит.\n",
    "- avg_class_frequency_current_month - частота посещения в неделю за предыдущий месяц, больше остается тех кто ходил чаще."
   ]
  },
  {
   "cell_type": "markdown",
   "metadata": {},
   "source": [
    "- Постройте столбчатые гистограммы и распределения признаков для тех, кто ушёл (отток) и тех, кто остался (не попали в отток)"
   ]
  },
  {
   "cell_type": "code",
   "execution_count": 11,
   "metadata": {},
   "outputs": [],
   "source": [
    "churn1 = df.query('churn == 1')\n",
    "churn0 = df.query('churn == 0')"
   ]
  },
  {
   "cell_type": "code",
   "execution_count": 12,
   "metadata": {
    "scrolled": true
   },
   "outputs": [
    {
     "data": {
      "image/png": "[encoded data removed]",
      "text/plain": [
       "<Figure size 432x288 with 1 Axes>"
      ]
     },
     "metadata": {
      "needs_background": "light"
     },
     "output_type": "display_data"
    },
    {
     "data": {
      "image/png": "[encoded data removed]",
      "text/plain": [
       "<Figure size 432x288 with 1 Axes>"
      ]
     },
     "metadata": {
      "needs_background": "light"
     },
     "output_type": "display_data"
    },
    {
     "data": {
      "image/png": "[encoded data removed]",
      "text/plain": [
       "<Figure size 432x288 with 1 Axes>"
      ]
     },
     "metadata": {
      "needs_background": "light"
     },
     "output_type": "display_data"
    },
    {
     "data": {
      "image/png": "[encoded data removed]",
      "text/plain": [
       "<Figure size 432x288 with 1 Axes>"
      ]
     },
     "metadata": {
      "needs_background": "light"
     },
     "output_type": "display_data"
    },
    {
     "data": {
      "image/png": "[encoded data removed]",
      "text/plain": [
       "<Figure size 432x288 with 1 Axes>"
      ]
     },
     "metadata": {
      "needs_background": "light"
     },
     "output_type": "display_data"
    },
    {
     "data": {
      "image/png": "[encoded data removed]",
      "text/plain": [
       "<Figure size 432x288 with 1 Axes>"
      ]
     },
     "metadata": {
      "needs_background": "light"
     },
     "output_type": "display_data"
    },
    {
     "data": {
      "image/png": "[encoded data removed]",
      "text/plain": [
       "<Figure size 432x288 with 1 Axes>"
      ]
     },
     "metadata": {
      "needs_background": "light"
     },
     "output_type": "display_data"
    },
    {
     "data": {
      "image/png": "[encoded data removed]",
      "text/plain": [
       "<Figure size 432x288 with 1 Axes>"
      ]
     },
     "metadata": {
      "needs_background": "light"
     },
     "output_type": "display_data"
    },
    {
     "data": {
      "image/png": "[encoded data removed]",
      "text/plain": [
       "<Figure size 432x288 with 1 Axes>"
      ]
     },
     "metadata": {
      "needs_background": "light"
     },
     "output_type": "display_data"
    },
    {
     "data": {
      "image/png": "[encoded data removed]",
      "text/plain": [
       "<Figure size 432x288 with 1 Axes>"
      ]
     },
     "metadata": {
      "needs_background": "light"
     },
     "output_type": "display_data"
    },
    {
     "data": {
      "image/png": "[encoded data removed]",
      "text/plain": [
       "<Figure size 432x288 with 1 Axes>"
      ]
     },
     "metadata": {
      "needs_background": "light"
     },
     "output_type": "display_data"
    },
    {
     "data": {
      "image/png": "[encoded data removed]",
      "text/plain": [
       "<Figure size 432x288 with 1 Axes>"
      ]
     },
     "metadata": {
      "needs_background": "light"
     },
     "output_type": "display_data"
    },
    {
     "data": {
      "image/png": "[encoded data removed]",
      "text/plain": [
       "<Figure size 432x288 with 1 Axes>"
      ]
     },
     "metadata": {
      "needs_background": "light"
     },
     "output_type": "display_data"
    }
   ],
   "source": [
    "fig, ax = plt.subplots()\n",
    "for column in df.drop('churn', axis = 1).columns:\n",
    "    plt.title(\"Распределение признаков\")\n",
    "    plt.xlabel(column)\n",
    "    plt.ylabel(\"Количество\")\n",
    "    sns.distplot(churn1[column], label='Ушли', bins=10, kde=False, color='r')\n",
    "    sns.distplot(churn0[column], label='Остались', bins=10, kde=False, color='y')\n",
    "    plt.legend()\n",
    "    plt.show()"
   ]
  },
  {
   "cell_type": "markdown",
   "metadata": {},
   "source": [
    "Одинаковые графики gender. По графику Near_Location видно,что больше тех кто живет рядом и уходят больше клиентов-кто расположен дальше. По графику партнеров клуба больше уходят те-кто не сотрудничает с фитнесом. По графику Promo_friends уходят больше-кто не пользовался акцией. По графику Phone видно,что почти все указывают свой номер в анкете и показатели примерно одинаковые. По графику Contract_period видно,что чем дольше продолжительность абонемента,тем больше остаются. По графику Group_visits больше остаются тех-кто ходит на групповые занятия. По графику age можно увидеть,что возраст не влияет на отток. По графику Avg_additional_charges_total можно увидеть,что дополнительные услуги не влияют на отток. По графику Month_to_end_contract видно,что чем больше срок окончания,тем отток меньше. По графику Lifetime видно,что чем меньше месяцев посещения,тем больше отток. По графику Avg_class_frequency_total примерно одинаковые показатели,но больше остаются тех-кто ходит чаще. По графику Avg_class_frequency_current_month видно что остаются те кто ходил чаще на прошлых неделях."
   ]
  },
  {
   "cell_type": "markdown",
   "metadata": {},
   "source": [
    "- Постройте матрицу корреляций и отобразите её."
   ]
  },
  {
   "cell_type": "code",
   "execution_count": 13,
   "metadata": {},
   "outputs": [
    {
     "data": {
      "image/png": "[encoded data removed]",
      "text/plain": [
       "<Figure size 1008x576 with 2 Axes>"
      ]
     },
     "metadata": {
      "needs_background": "light"
     },
     "output_type": "display_data"
    }
   ],
   "source": [
    "plt.figure(figsize=(14,8))\n",
    "sns.heatmap(df.corr(), annot = True, square=False)\n",
    "plt.title('Матрица корреляций', fontsize = 20) \n",
    "plt.show()"
   ]
  },
  {
   "cell_type": "markdown",
   "metadata": {},
   "source": [
    "Видна связь между признаками 'Contract_period' — длительность текущего действующего абонемента (месяц, 3 месяца, 6 месяцев, год) и 'Month_to_end_contract' — срок до окончания текущего действующего абонемента (в месяцах);'Avg_class_frequency_total' — средняя частота посещений в неделю за все время с начала действия абонемента и 'Avg_class_frequency_current_month' — средняя частота посещений в неделю за предыдущий месяц.Здесь все понятно одно вытекает издругого. Надо удалить один из признаков для,что бы они не мешали при обучении. Так же видна связь между 'Partner' — сотрудник компании-партнёра клуба (сотрудничество с компаниями, чьи сотрудники могут получать скидки на абонемент — в таком случае фитнес-центр хранит информацию о работодателе клиента) и Promo_friends — факт первоначальной записи в рамках акции «приведи друга» (использовал промо-код от знакомого при оплате первого абонемента),здесь тоже все понятно работают вместе и приглашают колег. Видно не сильную связь между контрактным периодом и партнерами."
   ]
  },
  {
   "cell_type": "markdown",
   "metadata": {},
   "source": [
    "##  Постройте модель прогнозирования оттока клиентов\n",
    "- Постройте модель бинарной классификации клиентов, где целевой признак — факт оттока клиента в следующем месяце:\n",
    "- Разбейте данные на обучающую и валидационную выборку функцией train_test_split().\n",
    "- Обучите модель на train-выборке двумя способами:\n",
    "логистической регрессией,\n",
    "случайным лесом.\n",
    "- Оцените метрики accuracy, precision и recall для обеих моделей на валидационной выборке. Сравните по ним модели. Какая модель показала себя лучше на основании метрик?\n",
    "Не забудьте указать параметр random_state при разделении выборки и задании алгоритма."
   ]
  },
  {
   "cell_type": "code",
   "execution_count": 14,
   "metadata": {},
   "outputs": [
    {
     "name": "stdout",
     "output_type": "stream",
     "text": [
      "<class 'pandas.core.frame.DataFrame'>\n",
      "RangeIndex: 4000 entries, 0 to 3999\n",
      "Data columns (total 12 columns):\n",
      "gender                               4000 non-null int64\n",
      "near_location                        4000 non-null int64\n",
      "partner                              4000 non-null int64\n",
      "promo_friends                        4000 non-null int64\n",
      "phone                                4000 non-null int64\n",
      "contract_period                      4000 non-null int64\n",
      "group_visits                         4000 non-null int64\n",
      "age                                  4000 non-null int64\n",
      "avg_additional_charges_total         4000 non-null float64\n",
      "lifetime                             4000 non-null int64\n",
      "avg_class_frequency_current_month    4000 non-null float64\n",
      "churn                                4000 non-null int64\n",
      "dtypes: float64(2), int64(10)\n",
      "memory usage: 375.1 KB\n"
     ]
    }
   ],
   "source": [
    "df = df.drop(['month_to_end_contract', 'avg_class_frequency_total'], axis=1)\n",
    "df.info()"
   ]
  },
  {
   "cell_type": "code",
   "execution_count": 15,
   "metadata": {},
   "outputs": [],
   "source": [
    "X = df.drop('churn', axis = 1)\n",
    "y = df['churn']\n",
    "X_train, X_test, y_train, y_test = train_test_split(X, y, test_size=0.2, random_state=0, stratify=y)"
   ]
  },
  {
   "cell_type": "code",
   "execution_count": 16,
   "metadata": {},
   "outputs": [],
   "source": [
    "scaler = StandardScaler()\n",
    "scaler.fit(X_train)\n",
    "X_train_st =scaler.transform(X_train)\n",
    "X_test_st = scaler.transform(X_test)"
   ]
  },
  {
   "cell_type": "code",
   "execution_count": 17,
   "metadata": {},
   "outputs": [],
   "source": [
    "lr_model = LogisticRegression(random_state=0)\n",
    "\n",
    "lr_model.fit(X_train_st, y_train)\n",
    "\n",
    "lr_predictions = lr_model.predict(X_test_st)\n",
    "lr_probabilities = lr_model.predict_proba(X_test_st)[:,1]"
   ]
  },
  {
   "cell_type": "code",
   "execution_count": 18,
   "metadata": {},
   "outputs": [],
   "source": [
    "rf_model = RandomForestClassifier(n_estimators = 100, random_state = 0) \n",
    "\n",
    "rf_model.fit(X_train_st, y_train)\n",
    "\n",
    "rf_predictions = rf_model.predict(X_test_st) \n",
    "rf_probabilities = rf_model.predict_proba(X_test_st)[:,1] "
   ]
  },
  {
   "cell_type": "code",
   "execution_count": 19,
   "metadata": {},
   "outputs": [],
   "source": [
    "def print_metrics(y_true, y_pred, y_proba, model_name):\n",
    "    print(\"Метрики для модели \"+model_name)\n",
    "    print('\\tAccuracy: {:.2f}'.format(accuracy_score(y_true, y_pred)))\n",
    "    print('\\tPrecision: {:.2f}'.format(precision_score(y_true, y_pred)))\n",
    "    print('\\tRecall: {:.2f}'.format(recall_score(y_true, y_pred)))\n",
    "#    print('\\tF1: {:.2f}'.format(f1_score(y_true, y_pred)))\n",
    "#    print('\\tROC_AUC: {:.2f}'.format(roc_auc_score(y_true, y_proba)))"
   ]
  },
  {
   "cell_type": "code",
   "execution_count": 20,
   "metadata": {},
   "outputs": [
    {
     "name": "stdout",
     "output_type": "stream",
     "text": [
      "Метрики для модели логистической регрессии:\n",
      "\tAccuracy: 0.92\n",
      "\tPrecision: 0.85\n",
      "\tRecall: 0.84\n",
      "Метрики для модели случайного леса:\n",
      "\tAccuracy: 0.91\n",
      "\tPrecision: 0.85\n",
      "\tRecall: 0.77\n"
     ]
    }
   ],
   "source": [
    "print_metrics(y_test, lr_predictions, lr_probabilities, 'логистической регрессии:')\n",
    "\n",
    "print_metrics(y_test, rf_predictions, rf_probabilities, 'случайного леса:')"
   ]
  },
  {
   "cell_type": "markdown",
   "metadata": {},
   "source": [
    "Accuracy-доля правильных ответов 0.90 у логической регрессии и 0.90 у случайного леса\n",
    "Precision-точность 0.79 у логической регрессии и 0.81 у случайного леса\n",
    "Recall-полнота 0.82 у логической регрессии и 0.75 у случайного леса.\n",
    "Обе модели достаточно хорошо способны делать прогноз, но метрики логистической регрессии чуть лучше."
   ]
  },
  {
   "cell_type": "markdown",
   "metadata": {},
   "source": [
    "## Сделайте кластеризацию клиентов\n",
    "Отложите в сторону столбец с оттоком и проведите кластеризацию объектов (клиентов):\n",
    "- Стандартизируйте данные.\n",
    "- Постройте матрицу расстояний функцией linkage() на стандартизованной матрице признаков и нарисуйте дендрограмму. Внимание: отрисовка дендрограммы может занять время! На основании полученного графика предположите, какое количество кластеров можно выделить.\n",
    "- Обучите модель кластеризации на основании алгоритма K-Means и спрогнозируйте кластеры клиентов. Договоримся за число кластеров принять n=5, чтобы ваши результаты можно было сравнивать с результатами остальных студентов. Однако, конечно, в жизни никто не скажет вам правильный ответ, и решение остаётся за вами (на основании изучения графика из предыдущего пункта).\n",
    "- Посмотрите на средние значения признаков для кластеров. Можно ли сразу что-то заметить?\n",
    "- Постройте распределения признаков для кластеров. Можно ли что-то заметить по ним?\n",
    "- Для каждого полученного кластера посчитайте долю оттока (методом groupby()). Отличаются ли они по доле оттока? Какие кластеры склонны к оттоку, а какие — надёжны?"
   ]
  },
  {
   "cell_type": "markdown",
   "metadata": {},
   "source": [
    "- Стандартизируйте данные."
   ]
  },
  {
   "cell_type": "code",
   "execution_count": 21,
   "metadata": {},
   "outputs": [],
   "source": [
    "X = df.drop('churn', axis=1)"
   ]
  },
  {
   "cell_type": "code",
   "execution_count": 22,
   "metadata": {},
   "outputs": [],
   "source": [
    "sc = StandardScaler()\n",
    "X_sc = sc.fit_transform(X)"
   ]
  },
  {
   "cell_type": "markdown",
   "metadata": {},
   "source": [
    "- Постройте матрицу расстояний функцией linkage() на стандартизованной матрице признаков и нарисуйте дендрограмму. Внимание: отрисовка дендрограммы может занять время! На основании полученного графика предположите, какое количество кластеров можно выделить."
   ]
  },
  {
   "cell_type": "code",
   "execution_count": 23,
   "metadata": {},
   "outputs": [
    {
     "data": {
      "image/png": "[encoded data removed]",
      "text/plain": [
       "<Figure size 1080x720 with 1 Axes>"
      ]
     },
     "metadata": {
      "needs_background": "light"
     },
     "output_type": "display_data"
    }
   ],
   "source": [
    "linked = linkage(X_sc, method = 'ward') \n",
    "plt.figure(figsize=(15, 10))  \n",
    "dendrogram(linked, orientation='top')\n",
    "plt.title('Кластеризация для фитнес-центра')\n",
    "plt.show()"
   ]
  },
  {
   "cell_type": "markdown",
   "metadata": {},
   "source": [
    "На дендрограмме 4 цвета,значит можно выделить 4 кластера. Но зретельно их 5."
   ]
  },
  {
   "cell_type": "markdown",
   "metadata": {},
   "source": [
    "- Обучите модель кластеризации на основании алгоритма K-Means и спрогнозируйте кластеры клиентов. Договоримся за число кластеров принять n=5, чтобы ваши результаты можно было сравнивать с результатами остальных студентов. Однако, конечно, в жизни никто не скажет вам правильный ответ, и решение остаётся за вами (на основании изучения графика из предыдущего пункта)."
   ]
  },
  {
   "cell_type": "code",
   "execution_count": 24,
   "metadata": {},
   "outputs": [],
   "source": [
    "sc = StandardScaler()\n",
    "X_sc = sc.fit_transform(X)\n",
    "\n",
    "km = KMeans(n_clusters=5, random_state = 0)\n",
    "labels = km.fit_predict(X_sc)"
   ]
  },
  {
   "cell_type": "markdown",
   "metadata": {},
   "source": [
    "- Посмотрите на средние значения признаков для кластеров. Можно ли сразу что-то заметить?"
   ]
  },
  {
   "cell_type": "code",
   "execution_count": 25,
   "metadata": {},
   "outputs": [
    {
     "data": {
      "text/html": [
       "<div>\n",
       "<style scoped>\n",
       "    .dataframe tbody tr th:only-of-type {\n",
       "        vertical-align: middle;\n",
       "    }\n",
       "\n",
       "    .dataframe tbody tr th {\n",
       "        vertical-align: top;\n",
       "    }\n",
       "\n",
       "    .dataframe thead th {\n",
       "        text-align: right;\n",
       "    }\n",
       "</style>\n",
       "<table border=\"1\" class=\"dataframe\">\n",
       "  <thead>\n",
       "    <tr style=\"text-align: right;\">\n",
       "      <th>cluster</th>\n",
       "      <th>0</th>\n",
       "      <th>1</th>\n",
       "      <th>2</th>\n",
       "      <th>3</th>\n",
       "      <th>4</th>\n",
       "    </tr>\n",
       "  </thead>\n",
       "  <tbody>\n",
       "    <tr>\n",
       "      <td>gender</td>\n",
       "      <td>0.496447</td>\n",
       "      <td>0.500000</td>\n",
       "      <td>0.500940</td>\n",
       "      <td>0.534260</td>\n",
       "      <td>0.523316</td>\n",
       "    </tr>\n",
       "    <tr>\n",
       "      <td>near_location</td>\n",
       "      <td>0.995939</td>\n",
       "      <td>0.000000</td>\n",
       "      <td>1.000000</td>\n",
       "      <td>0.996028</td>\n",
       "      <td>0.862694</td>\n",
       "    </tr>\n",
       "    <tr>\n",
       "      <td>partner</td>\n",
       "      <td>0.892386</td>\n",
       "      <td>0.489247</td>\n",
       "      <td>0.217105</td>\n",
       "      <td>0.379345</td>\n",
       "      <td>0.471503</td>\n",
       "    </tr>\n",
       "    <tr>\n",
       "      <td>promo_friends</td>\n",
       "      <td>1.000000</td>\n",
       "      <td>0.078853</td>\n",
       "      <td>0.072368</td>\n",
       "      <td>0.009930</td>\n",
       "      <td>0.305699</td>\n",
       "    </tr>\n",
       "    <tr>\n",
       "      <td>phone</td>\n",
       "      <td>1.000000</td>\n",
       "      <td>1.000000</td>\n",
       "      <td>1.000000</td>\n",
       "      <td>1.000000</td>\n",
       "      <td>0.000000</td>\n",
       "    </tr>\n",
       "    <tr>\n",
       "      <td>contract_period</td>\n",
       "      <td>6.922843</td>\n",
       "      <td>2.994624</td>\n",
       "      <td>2.010338</td>\n",
       "      <td>6.208540</td>\n",
       "      <td>4.777202</td>\n",
       "    </tr>\n",
       "    <tr>\n",
       "      <td>group_visits</td>\n",
       "      <td>0.524873</td>\n",
       "      <td>0.232975</td>\n",
       "      <td>0.277256</td>\n",
       "      <td>0.538232</td>\n",
       "      <td>0.427461</td>\n",
       "    </tr>\n",
       "    <tr>\n",
       "      <td>age</td>\n",
       "      <td>29.606091</td>\n",
       "      <td>28.679211</td>\n",
       "      <td>27.583647</td>\n",
       "      <td>30.699106</td>\n",
       "      <td>29.297927</td>\n",
       "    </tr>\n",
       "    <tr>\n",
       "      <td>avg_additional_charges_total</td>\n",
       "      <td>153.424651</td>\n",
       "      <td>137.125763</td>\n",
       "      <td>119.339956</td>\n",
       "      <td>176.259567</td>\n",
       "      <td>144.208179</td>\n",
       "    </tr>\n",
       "    <tr>\n",
       "      <td>lifetime</td>\n",
       "      <td>4.283249</td>\n",
       "      <td>2.974910</td>\n",
       "      <td>1.922932</td>\n",
       "      <td>5.415094</td>\n",
       "      <td>3.940415</td>\n",
       "    </tr>\n",
       "    <tr>\n",
       "      <td>avg_class_frequency_current_month</td>\n",
       "      <td>1.919520</td>\n",
       "      <td>1.597146</td>\n",
       "      <td>1.203319</td>\n",
       "      <td>2.324220</td>\n",
       "      <td>1.723967</td>\n",
       "    </tr>\n",
       "    <tr>\n",
       "      <td>churn</td>\n",
       "      <td>0.119797</td>\n",
       "      <td>0.403226</td>\n",
       "      <td>0.563910</td>\n",
       "      <td>0.014896</td>\n",
       "      <td>0.266839</td>\n",
       "    </tr>\n",
       "  </tbody>\n",
       "</table>\n",
       "</div>"
      ],
      "text/plain": [
       "cluster                                     0           1           2  \\\n",
       "gender                               0.496447    0.500000    0.500940   \n",
       "near_location                        0.995939    0.000000    1.000000   \n",
       "partner                              0.892386    0.489247    0.217105   \n",
       "promo_friends                        1.000000    0.078853    0.072368   \n",
       "phone                                1.000000    1.000000    1.000000   \n",
       "contract_period                      6.922843    2.994624    2.010338   \n",
       "group_visits                         0.524873    0.232975    0.277256   \n",
       "age                                 29.606091   28.679211   27.583647   \n",
       "avg_additional_charges_total       153.424651  137.125763  119.339956   \n",
       "lifetime                             4.283249    2.974910    1.922932   \n",
       "avg_class_frequency_current_month    1.919520    1.597146    1.203319   \n",
       "churn                                0.119797    0.403226    0.563910   \n",
       "\n",
       "cluster                                     3           4  \n",
       "gender                               0.534260    0.523316  \n",
       "near_location                        0.996028    0.862694  \n",
       "partner                              0.379345    0.471503  \n",
       "promo_friends                        0.009930    0.305699  \n",
       "phone                                1.000000    0.000000  \n",
       "contract_period                      6.208540    4.777202  \n",
       "group_visits                         0.538232    0.427461  \n",
       "age                                 30.699106   29.297927  \n",
       "avg_additional_charges_total       176.259567  144.208179  \n",
       "lifetime                             5.415094    3.940415  \n",
       "avg_class_frequency_current_month    2.324220    1.723967  \n",
       "churn                                0.014896    0.266839  "
      ]
     },
     "execution_count": 25,
     "metadata": {},
     "output_type": "execute_result"
    }
   ],
   "source": [
    "df['cluster'] = labels\n",
    "df.groupby(['cluster']).mean().T"
   ]
  },
  {
   "cell_type": "code",
   "execution_count": 26,
   "metadata": {},
   "outputs": [
    {
     "data": {
      "text/plain": [
       "cluster\n",
       "0     985\n",
       "1     558\n",
       "2    1064\n",
       "3    1007\n",
       "4     386\n",
       "Name: churn, dtype: int64"
      ]
     },
     "execution_count": 26,
     "metadata": {},
     "output_type": "execute_result"
    }
   ],
   "source": [
    "df.groupby(['cluster'])['churn'].count()"
   ]
  },
  {
   "cell_type": "markdown",
   "metadata": {},
   "source": [
    "Больше всего клиентов в кластере №2,0,3. Выделяются по показателям кластеры №0,1,3."
   ]
  },
  {
   "cell_type": "markdown",
   "metadata": {},
   "source": [
    "- Постройте распределения признаков для кластеров. Можно ли что-то заметить по ним?"
   ]
  },
  {
   "cell_type": "code",
   "execution_count": 27,
   "metadata": {
    "scrolled": true
   },
   "outputs": [
    {
     "data": {
      "image/png": "[encoded data removed]",
      "text/plain": [
       "<Figure size 432x288 with 1 Axes>"
      ]
     },
     "metadata": {
      "needs_background": "light"
     },
     "output_type": "display_data"
    },
    {
     "data": {
      "image/png": "[encoded data removed]",
      "text/plain": [
       "<Figure size 432x288 with 1 Axes>"
      ]
     },
     "metadata": {
      "needs_background": "light"
     },
     "output_type": "display_data"
    },
    {
     "data": {
      "image/png": "[encoded data removed]",
      "text/plain": [
       "<Figure size 432x288 with 1 Axes>"
      ]
     },
     "metadata": {
      "needs_background": "light"
     },
     "output_type": "display_data"
    },
    {
     "data": {
      "image/png": "[encoded data removed]",
      "text/plain": [
       "<Figure size 432x288 with 1 Axes>"
      ]
     },
     "metadata": {
      "needs_background": "light"
     },
     "output_type": "display_data"
    },
    {
     "data": {
      "image/png": "[encoded data removed]",
      "text/plain": [
       "<Figure size 432x288 with 1 Axes>"
      ]
     },
     "metadata": {
      "needs_background": "light"
     },
     "output_type": "display_data"
    },
    {
     "data": {
      "image/png": "[encoded data removed]",
      "text/plain": [
       "<Figure size 432x288 with 1 Axes>"
      ]
     },
     "metadata": {
      "needs_background": "light"
     },
     "output_type": "display_data"
    },
    {
     "data": {
      "image/png": "[encoded data removed]",
      "text/plain": [
       "<Figure size 432x288 with 1 Axes>"
      ]
     },
     "metadata": {
      "needs_background": "light"
     },
     "output_type": "display_data"
    },
    {
     "data": {
      "image/png": "[encoded data removed]",
      "text/plain": [
       "<Figure size 432x288 with 1 Axes>"
      ]
     },
     "metadata": {
      "needs_background": "light"
     },
     "output_type": "display_data"
    },
    {
     "data": {
      "image/png": "[encoded data removed]",
      "text/plain": [
       "<Figure size 432x288 with 1 Axes>"
      ]
     },
     "metadata": {
      "needs_background": "light"
     },
     "output_type": "display_data"
    },
    {
     "data": {
      "image/png": "[encoded data removed]",
      "text/plain": [
       "<Figure size 432x288 with 1 Axes>"
      ]
     },
     "metadata": {
      "needs_background": "light"
     },
     "output_type": "display_data"
    }
   ],
   "source": [
    "list = ['gender','near_location','partner','promo_friends','phone','contract_period','group_visits','age','lifetime','churn']\n",
    "fig, ax = plt.subplots()\n",
    "for column in list:\n",
    "    plt.title(\"Распределение признака\")\n",
    "    sns.countplot(data=df, x=column, hue='cluster', color='r')\n",
    "    plt.xlabel(column)\n",
    "    plt.ylabel(\"Количество\")\n",
    "    plt.legend()\n",
    "    plt.show()"
   ]
  },
  {
   "cell_type": "markdown",
   "metadata": {},
   "source": [
    "На графиках 'age', 'avg_additional_charges_total', 'avg_class_frequency_current_month', 'lifetime' ничего не разглядеть.\n",
    "На графике gender больше всего кластеров 0,2,3 и у женщин и у мужчин.\n",
    "На графике near_location выделяются кластеры 0,2,3 проживающих поблизости и 1,живущих не близко.\n",
    "На графике partner выделяется 0 партнеры клуба и 2,3 не партнеры.\n",
    "На графике promo_friends-0 по акции и 1,2 без нее.\n",
    "На графике phone выделяются кластеры 0,2,3 у кого записан телефон и 4 не записан.\n",
    "На графике contract_period выделяется 1 месяц кластер 2 и на 12 месяцев кластер 0,3.\n",
    "На графике group_visits-2 кластер для клиентов,которые не ходят на групповые и 0,3 для групповых.\n",
    "На графике churn-0,3 для оставшихся и 2 для ушедших."
   ]
  },
  {
   "cell_type": "markdown",
   "metadata": {},
   "source": [
    "- Для каждого полученного кластера посчитайте долю оттока (методом groupby()). Отличаются ли они по доле оттока? Какие кластеры склонны к оттоку, а какие — надёжны?"
   ]
  },
  {
   "cell_type": "code",
   "execution_count": 28,
   "metadata": {},
   "outputs": [
    {
     "data": {
      "text/plain": [
       "cluster\n",
       "0     985\n",
       "1     558\n",
       "2    1064\n",
       "3    1007\n",
       "4     386\n",
       "Name: churn, dtype: int64"
      ]
     },
     "execution_count": 28,
     "metadata": {},
     "output_type": "execute_result"
    }
   ],
   "source": [
    "df.groupby(['cluster'])['churn'].count()"
   ]
  },
  {
   "cell_type": "code",
   "execution_count": 29,
   "metadata": {},
   "outputs": [
    {
     "data": {
      "text/html": [
       "<div>\n",
       "<style scoped>\n",
       "    .dataframe tbody tr th:only-of-type {\n",
       "        vertical-align: middle;\n",
       "    }\n",
       "\n",
       "    .dataframe tbody tr th {\n",
       "        vertical-align: top;\n",
       "    }\n",
       "\n",
       "    .dataframe thead th {\n",
       "        text-align: right;\n",
       "    }\n",
       "</style>\n",
       "<table border=\"1\" class=\"dataframe\">\n",
       "  <thead>\n",
       "    <tr style=\"text-align: right;\">\n",
       "      <th></th>\n",
       "      <th>cluster</th>\n",
       "      <th>churn</th>\n",
       "    </tr>\n",
       "  </thead>\n",
       "  <tbody>\n",
       "    <tr>\n",
       "      <td>0</td>\n",
       "      <td>2</td>\n",
       "      <td>0.56</td>\n",
       "    </tr>\n",
       "    <tr>\n",
       "      <td>1</td>\n",
       "      <td>1</td>\n",
       "      <td>0.40</td>\n",
       "    </tr>\n",
       "    <tr>\n",
       "      <td>2</td>\n",
       "      <td>4</td>\n",
       "      <td>0.27</td>\n",
       "    </tr>\n",
       "    <tr>\n",
       "      <td>3</td>\n",
       "      <td>0</td>\n",
       "      <td>0.12</td>\n",
       "    </tr>\n",
       "    <tr>\n",
       "      <td>4</td>\n",
       "      <td>3</td>\n",
       "      <td>0.01</td>\n",
       "    </tr>\n",
       "  </tbody>\n",
       "</table>\n",
       "</div>"
      ],
      "text/plain": [
       "   cluster  churn\n",
       "0        2   0.56\n",
       "1        1   0.40\n",
       "2        4   0.27\n",
       "3        0   0.12\n",
       "4        3   0.01"
      ]
     },
     "execution_count": 29,
     "metadata": {},
     "output_type": "execute_result"
    }
   ],
   "source": [
    "cluster_churn = df.groupby('cluster')['churn'].mean().reset_index()\n",
    "cluster_churn.sort_values(by='churn', ascending=False).reset_index(drop=True).round(2)"
   ]
  },
  {
   "cell_type": "markdown",
   "metadata": {},
   "source": [
    "Самый большой отток у кластера №2,потом №1 и №4. Надежные кластеры №0 и №3."
   ]
  },
  {
   "cell_type": "markdown",
   "metadata": {},
   "source": [
    "## Вывод\n",
    "\n",
    "# Фитнес-центром пользуются:\n",
    "- в равных долях и мужчины и женщины;\n",
    "- большое количество партнеров клуба;\n",
    "- много клиентов по акции \"приведи друга\";\n",
    "- клиенты,которые ходят на групповые занятия;\n",
    "- средний возраст 26-29 лет;\n",
    "- клиенты,которые купили абонимент;\n",
    "# Модель прогнозирования оттока клиентов:\n",
    "- Метрики для модели логистической регрессии:\n",
    "\tAccuracy: 0.90\n",
    "\tPrecision: 0.79\n",
    "\tRecall: 0.82\n",
    "- Метрики для модели случайного леса:\n",
    "\tAccuracy: 0.90\n",
    "\tPrecision: 0.81\n",
    "\tRecall: 0.75\n",
    "Обе модели достаточно хорошо способны делать прогноз, но метрики логистической регрессии чуть лучше.\n",
    "# Рекомендации:\n",
    "- Нужно обратить внимание на кластер №2,потому что там большое количество клиентов и самый большой уход;\n",
    "- Нужно обратить внимание на новых клиентов,т.к. у них больший отток;\n",
    "- Сделать акции на продление абонементов;\n",
    "- Сделать акции для проживающих или работающих в районе, где находится фитнес-центр или сделать больше рекламы."
   ]
  }
 ],
 "metadata": {
  "ExecuteTimeLog": [
   {
    "duration": 1543,
    "start_time": "2021-12-26T08:30:50.806Z"
   },
   {
    "duration": 32,
    "start_time": "2021-12-26T08:30:53.163Z"
   },
   {
    "duration": 62,
    "start_time": "2021-12-26T08:31:03.311Z"
   },
   {
    "duration": 44,
    "start_time": "2021-12-26T08:31:36.572Z"
   },
   {
    "duration": 10,
    "start_time": "2021-12-26T08:31:51.827Z"
   },
   {
    "duration": 19,
    "start_time": "2021-12-26T08:33:13.763Z"
   },
   {
    "duration": 36,
    "start_time": "2021-12-26T08:33:50.311Z"
   },
   {
    "duration": 34,
    "start_time": "2021-12-26T08:37:14.243Z"
   },
   {
    "duration": 18,
    "start_time": "2021-12-26T08:47:40.085Z"
   },
   {
    "duration": 4,
    "start_time": "2021-12-26T08:48:35.297Z"
   },
   {
    "duration": 40,
    "start_time": "2021-12-26T08:48:35.925Z"
   },
   {
    "duration": 9,
    "start_time": "2021-12-26T08:48:36.161Z"
   },
   {
    "duration": 10,
    "start_time": "2021-12-26T08:48:36.369Z"
   },
   {
    "duration": 37,
    "start_time": "2021-12-26T08:48:36.637Z"
   },
   {
    "duration": 13,
    "start_time": "2021-12-26T08:48:36.845Z"
   },
   {
    "duration": 18,
    "start_time": "2021-12-26T08:48:40.483Z"
   },
   {
    "duration": 18,
    "start_time": "2021-12-26T08:55:01.928Z"
   },
   {
    "duration": 4,
    "start_time": "2021-12-26T09:13:35.212Z"
   },
   {
    "duration": 40,
    "start_time": "2021-12-26T09:13:35.408Z"
   },
   {
    "duration": 12,
    "start_time": "2021-12-26T09:13:35.608Z"
   },
   {
    "duration": 10,
    "start_time": "2021-12-26T09:13:35.764Z"
   },
   {
    "duration": 37,
    "start_time": "2021-12-26T09:13:35.973Z"
   },
   {
    "duration": 15,
    "start_time": "2021-12-26T09:13:36.136Z"
   },
   {
    "duration": 19,
    "start_time": "2021-12-26T09:13:37.740Z"
   },
   {
    "duration": 72,
    "start_time": "2021-12-26T09:41:04.680Z"
   },
   {
    "duration": 30,
    "start_time": "2021-12-26T10:08:51.551Z"
   },
   {
    "duration": 1462,
    "start_time": "2021-12-26T10:35:26.203Z"
   },
   {
    "duration": 44,
    "start_time": "2021-12-26T10:35:27.668Z"
   },
   {
    "duration": 10,
    "start_time": "2021-12-26T10:35:27.715Z"
   },
   {
    "duration": 16,
    "start_time": "2021-12-26T10:35:27.728Z"
   },
   {
    "duration": 51,
    "start_time": "2021-12-26T10:35:27.746Z"
   },
   {
    "duration": 12,
    "start_time": "2021-12-26T10:35:27.800Z"
   },
   {
    "duration": 17,
    "start_time": "2021-12-26T10:35:27.815Z"
   },
   {
    "duration": 100,
    "start_time": "2021-12-26T10:35:27.834Z"
   },
   {
    "duration": 51,
    "start_time": "2021-12-26T10:35:27.937Z"
   },
   {
    "duration": 327,
    "start_time": "2021-12-26T12:08:05.218Z"
   },
   {
    "duration": 223,
    "start_time": "2021-12-26T12:08:21.894Z"
   },
   {
    "duration": 1117,
    "start_time": "2021-12-26T12:08:32.458Z"
   },
   {
    "duration": 35,
    "start_time": "2021-12-26T12:08:33.577Z"
   },
   {
    "duration": 6,
    "start_time": "2021-12-26T12:08:33.614Z"
   },
   {
    "duration": 18,
    "start_time": "2021-12-26T12:08:33.622Z"
   },
   {
    "duration": 28,
    "start_time": "2021-12-26T12:08:33.641Z"
   },
   {
    "duration": 9,
    "start_time": "2021-12-26T12:08:33.671Z"
   },
   {
    "duration": 12,
    "start_time": "2021-12-26T12:08:33.858Z"
   },
   {
    "duration": 45,
    "start_time": "2021-12-26T12:08:34.390Z"
   },
   {
    "duration": 18,
    "start_time": "2021-12-26T12:08:35.918Z"
   },
   {
    "duration": 22,
    "start_time": "2021-12-26T12:10:07.358Z"
   },
   {
    "duration": 6,
    "start_time": "2021-12-26T12:30:07.401Z"
   },
   {
    "duration": 3,
    "start_time": "2021-12-26T12:31:40.897Z"
   },
   {
    "duration": 6,
    "start_time": "2021-12-26T12:31:51.257Z"
   },
   {
    "duration": 6,
    "start_time": "2021-12-26T12:32:23.565Z"
   },
   {
    "duration": 22,
    "start_time": "2021-12-26T12:42:15.262Z"
   },
   {
    "duration": 18,
    "start_time": "2021-12-26T12:42:22.838Z"
   },
   {
    "duration": 10,
    "start_time": "2021-12-26T12:42:54.616Z"
   },
   {
    "duration": 279,
    "start_time": "2021-12-26T12:46:44.955Z"
   },
   {
    "duration": 484,
    "start_time": "2021-12-26T12:48:01.791Z"
   },
   {
    "duration": 3,
    "start_time": "2021-12-26T12:49:23.607Z"
   },
   {
    "duration": 237,
    "start_time": "2021-12-26T12:49:24.679Z"
   },
   {
    "duration": 44,
    "start_time": "2021-12-26T12:50:56.843Z"
   },
   {
    "duration": 252,
    "start_time": "2021-12-26T12:50:57.660Z"
   },
   {
    "duration": 3,
    "start_time": "2021-12-26T12:51:47.271Z"
   },
   {
    "duration": 231,
    "start_time": "2021-12-26T12:52:08.627Z"
   },
   {
    "duration": 245,
    "start_time": "2021-12-26T12:52:48.967Z"
   },
   {
    "duration": 8,
    "start_time": "2021-12-26T12:59:54.069Z"
   },
   {
    "duration": 3480,
    "start_time": "2021-12-26T13:03:22.981Z"
   },
   {
    "duration": 3281,
    "start_time": "2021-12-26T13:03:41.571Z"
   },
   {
    "duration": 3586,
    "start_time": "2021-12-26T13:03:59.729Z"
   },
   {
    "duration": 3578,
    "start_time": "2021-12-26T13:04:19.710Z"
   },
   {
    "duration": 3651,
    "start_time": "2021-12-26T13:07:47.642Z"
   },
   {
    "duration": 3673,
    "start_time": "2021-12-26T13:08:30.483Z"
   },
   {
    "duration": 9,
    "start_time": "2021-12-26T13:11:04.427Z"
   },
   {
    "duration": 1071,
    "start_time": "2021-12-26T13:12:01.379Z"
   },
   {
    "duration": 33,
    "start_time": "2021-12-26T13:12:02.452Z"
   },
   {
    "duration": 6,
    "start_time": "2021-12-26T13:12:02.487Z"
   },
   {
    "duration": 34,
    "start_time": "2021-12-26T13:12:02.495Z"
   },
   {
    "duration": 23,
    "start_time": "2021-12-26T13:12:02.530Z"
   },
   {
    "duration": 7,
    "start_time": "2021-12-26T13:12:02.555Z"
   },
   {
    "duration": 13,
    "start_time": "2021-12-26T13:12:02.563Z"
   },
   {
    "duration": 43,
    "start_time": "2021-12-26T13:12:02.578Z"
   },
   {
    "duration": 23,
    "start_time": "2021-12-26T13:12:02.622Z"
   },
   {
    "duration": 18,
    "start_time": "2021-12-26T13:12:02.646Z"
   },
   {
    "duration": 16,
    "start_time": "2021-12-26T13:12:02.666Z"
   },
   {
    "duration": 6,
    "start_time": "2021-12-26T13:12:02.683Z"
   },
   {
    "duration": 3744,
    "start_time": "2021-12-26T13:12:02.691Z"
   },
   {
    "duration": 38,
    "start_time": "2021-12-26T13:13:35.555Z"
   },
   {
    "duration": 435,
    "start_time": "2021-12-26T13:59:31.617Z"
   },
   {
    "duration": 3687,
    "start_time": "2021-12-26T14:03:05.137Z"
   },
   {
    "duration": 3390,
    "start_time": "2021-12-26T14:03:18.657Z"
   },
   {
    "duration": 3032,
    "start_time": "2021-12-26T14:03:34.361Z"
   },
   {
    "duration": 3758,
    "start_time": "2021-12-26T14:04:03.910Z"
   },
   {
    "duration": 205,
    "start_time": "2021-12-26T14:09:02.322Z"
   },
   {
    "duration": 2888,
    "start_time": "2021-12-26T14:10:18.034Z"
   },
   {
    "duration": 2157,
    "start_time": "2021-12-26T14:10:27.438Z"
   },
   {
    "duration": 2014,
    "start_time": "2021-12-26T14:11:16.918Z"
   },
   {
    "duration": 2206,
    "start_time": "2021-12-26T14:11:44.582Z"
   },
   {
    "duration": 2372,
    "start_time": "2021-12-26T14:13:07.062Z"
   },
   {
    "duration": 2176,
    "start_time": "2021-12-26T14:13:25.359Z"
   },
   {
    "duration": 2296,
    "start_time": "2021-12-26T14:13:36.270Z"
   },
   {
    "duration": 2243,
    "start_time": "2021-12-26T14:13:57.683Z"
   },
   {
    "duration": 2474,
    "start_time": "2021-12-26T14:14:25.890Z"
   },
   {
    "duration": 2725,
    "start_time": "2021-12-26T14:14:34.555Z"
   },
   {
    "duration": 2561,
    "start_time": "2021-12-26T14:15:14.007Z"
   },
   {
    "duration": 2611,
    "start_time": "2021-12-26T14:18:05.471Z"
   },
   {
    "duration": 2702,
    "start_time": "2021-12-26T14:18:38.929Z"
   },
   {
    "duration": 383,
    "start_time": "2021-12-26T14:19:00.140Z"
   },
   {
    "duration": 372,
    "start_time": "2021-12-26T14:19:06.924Z"
   },
   {
    "duration": 386,
    "start_time": "2021-12-26T14:19:13.955Z"
   },
   {
    "duration": 449,
    "start_time": "2021-12-26T14:19:21.419Z"
   },
   {
    "duration": 2791,
    "start_time": "2021-12-26T14:19:29.275Z"
   },
   {
    "duration": 481,
    "start_time": "2021-12-26T14:19:37.192Z"
   },
   {
    "duration": 387,
    "start_time": "2021-12-26T14:19:45.947Z"
   },
   {
    "duration": 2816,
    "start_time": "2021-12-26T14:19:51.135Z"
   },
   {
    "duration": 2604,
    "start_time": "2021-12-26T14:20:26.692Z"
   },
   {
    "duration": 2595,
    "start_time": "2021-12-26T14:20:35.028Z"
   },
   {
    "duration": 2857,
    "start_time": "2021-12-26T14:20:56.527Z"
   },
   {
    "duration": 1118,
    "start_time": "2021-12-26T14:28:41.185Z"
   },
   {
    "duration": 1158,
    "start_time": "2021-12-26T14:52:12.916Z"
   },
   {
    "duration": 1160,
    "start_time": "2021-12-26T14:54:15.532Z"
   },
   {
    "duration": 1274,
    "start_time": "2021-12-26T14:55:39.800Z"
   },
   {
    "duration": 1046,
    "start_time": "2021-12-26T14:56:24.022Z"
   },
   {
    "duration": 1008,
    "start_time": "2021-12-26T14:57:06.368Z"
   },
   {
    "duration": 7,
    "start_time": "2021-12-26T15:40:28.038Z"
   },
   {
    "duration": 1134,
    "start_time": "2021-12-26T15:43:51.211Z"
   },
   {
    "duration": 34,
    "start_time": "2021-12-26T15:43:52.347Z"
   },
   {
    "duration": 8,
    "start_time": "2021-12-26T15:43:52.386Z"
   },
   {
    "duration": 8,
    "start_time": "2021-12-26T15:43:52.395Z"
   },
   {
    "duration": 44,
    "start_time": "2021-12-26T15:43:52.405Z"
   },
   {
    "duration": 7,
    "start_time": "2021-12-26T15:43:52.451Z"
   },
   {
    "duration": 11,
    "start_time": "2021-12-26T15:43:52.461Z"
   },
   {
    "duration": 49,
    "start_time": "2021-12-26T15:43:52.474Z"
   },
   {
    "duration": 20,
    "start_time": "2021-12-26T15:43:52.524Z"
   },
   {
    "duration": 16,
    "start_time": "2021-12-26T15:43:52.545Z"
   },
   {
    "duration": 7,
    "start_time": "2021-12-26T15:43:52.562Z"
   },
   {
    "duration": 2716,
    "start_time": "2021-12-26T15:43:52.570Z"
   },
   {
    "duration": 1173,
    "start_time": "2021-12-26T15:43:55.288Z"
   },
   {
    "duration": 8,
    "start_time": "2021-12-26T15:43:56.463Z"
   },
   {
    "duration": 479,
    "start_time": "2021-12-26T15:59:07.873Z"
   },
   {
    "duration": 7,
    "start_time": "2021-12-26T15:59:31.265Z"
   },
   {
    "duration": 9,
    "start_time": "2021-12-26T16:01:00.881Z"
   },
   {
    "duration": 196,
    "start_time": "2021-12-26T16:35:57.061Z"
   },
   {
    "duration": 7,
    "start_time": "2021-12-26T16:47:45.751Z"
   },
   {
    "duration": 1178,
    "start_time": "2021-12-26T16:47:53.145Z"
   },
   {
    "duration": 33,
    "start_time": "2021-12-26T16:47:54.325Z"
   },
   {
    "duration": 8,
    "start_time": "2021-12-26T16:47:54.360Z"
   },
   {
    "duration": 15,
    "start_time": "2021-12-26T16:47:54.370Z"
   },
   {
    "duration": 34,
    "start_time": "2021-12-26T16:47:54.388Z"
   },
   {
    "duration": 22,
    "start_time": "2021-12-26T16:47:54.424Z"
   },
   {
    "duration": 17,
    "start_time": "2021-12-26T16:47:54.449Z"
   },
   {
    "duration": 48,
    "start_time": "2021-12-26T16:47:54.468Z"
   },
   {
    "duration": 24,
    "start_time": "2021-12-26T16:47:54.518Z"
   },
   {
    "duration": 16,
    "start_time": "2021-12-26T16:47:54.544Z"
   },
   {
    "duration": 9,
    "start_time": "2021-12-26T16:47:54.563Z"
   },
   {
    "duration": 4394,
    "start_time": "2021-12-26T16:47:54.574Z"
   },
   {
    "duration": 1158,
    "start_time": "2021-12-26T16:47:58.970Z"
   },
   {
    "duration": 14,
    "start_time": "2021-12-26T16:48:00.131Z"
   },
   {
    "duration": 6,
    "start_time": "2021-12-26T16:48:00.147Z"
   },
   {
    "duration": 11,
    "start_time": "2021-12-26T16:48:00.155Z"
   },
   {
    "duration": 297,
    "start_time": "2021-12-26T16:51:10.938Z"
   },
   {
    "duration": 294,
    "start_time": "2021-12-26T17:01:36.733Z"
   },
   {
    "duration": 307,
    "start_time": "2021-12-26T17:01:57.057Z"
   },
   {
    "duration": 14,
    "start_time": "2021-12-26T17:02:22.592Z"
   },
   {
    "duration": 11,
    "start_time": "2021-12-26T17:02:31.541Z"
   },
   {
    "duration": 1204,
    "start_time": "2021-12-26T17:08:51.137Z"
   },
   {
    "duration": 34,
    "start_time": "2021-12-26T17:08:52.343Z"
   },
   {
    "duration": 7,
    "start_time": "2021-12-26T17:08:52.379Z"
   },
   {
    "duration": 12,
    "start_time": "2021-12-26T17:08:52.388Z"
   },
   {
    "duration": 39,
    "start_time": "2021-12-26T17:08:52.402Z"
   },
   {
    "duration": 9,
    "start_time": "2021-12-26T17:08:52.443Z"
   },
   {
    "duration": 11,
    "start_time": "2021-12-26T17:08:52.454Z"
   },
   {
    "duration": 41,
    "start_time": "2021-12-26T17:08:52.468Z"
   },
   {
    "duration": 31,
    "start_time": "2021-12-26T17:08:52.511Z"
   },
   {
    "duration": 12,
    "start_time": "2021-12-26T17:08:52.544Z"
   },
   {
    "duration": 8,
    "start_time": "2021-12-26T17:08:52.557Z"
   },
   {
    "duration": 2596,
    "start_time": "2021-12-26T17:08:52.566Z"
   },
   {
    "duration": 1697,
    "start_time": "2021-12-26T17:08:55.163Z"
   },
   {
    "duration": 11,
    "start_time": "2021-12-26T17:08:56.862Z"
   },
   {
    "duration": 9,
    "start_time": "2021-12-26T17:08:56.875Z"
   },
   {
    "duration": 8,
    "start_time": "2021-12-26T17:08:56.886Z"
   },
   {
    "duration": 473,
    "start_time": "2021-12-26T17:08:56.896Z"
   },
   {
    "duration": 19,
    "start_time": "2021-12-26T17:08:57.372Z"
   },
   {
    "duration": 12,
    "start_time": "2021-12-26T17:11:18.761Z"
   },
   {
    "duration": 305,
    "start_time": "2021-12-26T17:11:39.501Z"
   },
   {
    "duration": 12,
    "start_time": "2021-12-26T17:11:39.808Z"
   },
   {
    "duration": 10,
    "start_time": "2021-12-26T17:12:13.150Z"
   },
   {
    "duration": 295,
    "start_time": "2021-12-26T17:16:02.050Z"
   },
   {
    "duration": 11,
    "start_time": "2021-12-26T17:16:07.041Z"
   },
   {
    "duration": 11,
    "start_time": "2021-12-26T17:16:07.553Z"
   },
   {
    "duration": 209,
    "start_time": "2021-12-26T17:17:04.474Z"
   },
   {
    "duration": 11,
    "start_time": "2021-12-26T17:18:14.610Z"
   },
   {
    "duration": 12,
    "start_time": "2021-12-26T17:18:56.002Z"
   },
   {
    "duration": 208,
    "start_time": "2021-12-26T17:20:02.190Z"
   },
   {
    "duration": 298,
    "start_time": "2021-12-26T17:20:26.322Z"
   },
   {
    "duration": 10,
    "start_time": "2021-12-26T17:20:26.622Z"
   },
   {
    "duration": 1090,
    "start_time": "2021-12-26T17:23:17.139Z"
   },
   {
    "duration": 33,
    "start_time": "2021-12-26T17:23:18.231Z"
   },
   {
    "duration": 7,
    "start_time": "2021-12-26T17:23:18.266Z"
   },
   {
    "duration": 8,
    "start_time": "2021-12-26T17:23:18.275Z"
   },
   {
    "duration": 21,
    "start_time": "2021-12-26T17:23:18.285Z"
   },
   {
    "duration": 7,
    "start_time": "2021-12-26T17:23:18.308Z"
   },
   {
    "duration": 26,
    "start_time": "2021-12-26T17:23:18.316Z"
   },
   {
    "duration": 36,
    "start_time": "2021-12-26T17:23:18.344Z"
   },
   {
    "duration": 5,
    "start_time": "2021-12-26T17:23:18.382Z"
   },
   {
    "duration": 10,
    "start_time": "2021-12-26T17:23:18.388Z"
   },
   {
    "duration": 7,
    "start_time": "2021-12-26T17:23:18.399Z"
   },
   {
    "duration": 2628,
    "start_time": "2021-12-26T17:23:18.407Z"
   },
   {
    "duration": 1210,
    "start_time": "2021-12-26T17:23:21.036Z"
   },
   {
    "duration": 8,
    "start_time": "2021-12-26T17:23:22.248Z"
   },
   {
    "duration": 7,
    "start_time": "2021-12-26T17:23:22.258Z"
   },
   {
    "duration": 8,
    "start_time": "2021-12-26T17:23:22.266Z"
   },
   {
    "duration": 12,
    "start_time": "2021-12-26T17:23:22.275Z"
   },
   {
    "duration": 12,
    "start_time": "2021-12-26T17:23:22.289Z"
   },
   {
    "duration": 374,
    "start_time": "2021-12-26T17:23:22.302Z"
   },
   {
    "duration": 12,
    "start_time": "2021-12-26T17:23:22.678Z"
   },
   {
    "duration": 1142,
    "start_time": "2021-12-26T18:29:55.004Z"
   },
   {
    "duration": 34,
    "start_time": "2021-12-26T18:29:56.148Z"
   },
   {
    "duration": 6,
    "start_time": "2021-12-26T18:29:56.184Z"
   },
   {
    "duration": 8,
    "start_time": "2021-12-26T18:29:56.192Z"
   },
   {
    "duration": 22,
    "start_time": "2021-12-26T18:29:56.202Z"
   },
   {
    "duration": 20,
    "start_time": "2021-12-26T18:29:56.225Z"
   },
   {
    "duration": 10,
    "start_time": "2021-12-26T18:29:56.247Z"
   },
   {
    "duration": 35,
    "start_time": "2021-12-26T18:29:56.260Z"
   },
   {
    "duration": 5,
    "start_time": "2021-12-26T18:29:56.297Z"
   },
   {
    "duration": 38,
    "start_time": "2021-12-26T18:29:56.304Z"
   },
   {
    "duration": 7,
    "start_time": "2021-12-26T18:29:56.343Z"
   },
   {
    "duration": 2722,
    "start_time": "2021-12-26T18:29:56.351Z"
   },
   {
    "duration": 1137,
    "start_time": "2021-12-26T18:29:59.074Z"
   },
   {
    "duration": 9,
    "start_time": "2021-12-26T18:30:00.212Z"
   },
   {
    "duration": 28,
    "start_time": "2021-12-26T18:30:00.223Z"
   },
   {
    "duration": 9,
    "start_time": "2021-12-26T18:30:00.253Z"
   },
   {
    "duration": 23,
    "start_time": "2021-12-26T18:30:00.264Z"
   },
   {
    "duration": 14,
    "start_time": "2021-12-26T18:30:00.289Z"
   },
   {
    "duration": 336,
    "start_time": "2021-12-26T18:30:00.305Z"
   },
   {
    "duration": 11,
    "start_time": "2021-12-26T18:30:00.643Z"
   },
   {
    "duration": 8,
    "start_time": "2021-12-26T18:45:59.243Z"
   },
   {
    "duration": 302,
    "start_time": "2021-12-26T18:46:00.407Z"
   },
   {
    "duration": 9,
    "start_time": "2021-12-26T18:46:00.823Z"
   },
   {
    "duration": 453,
    "start_time": "2021-12-26T19:05:00.244Z"
   },
   {
    "duration": 17,
    "start_time": "2021-12-26T19:05:11.517Z"
   },
   {
    "duration": 448,
    "start_time": "2021-12-26T19:05:27.469Z"
   },
   {
    "duration": 252,
    "start_time": "2021-12-26T19:06:19.254Z"
   },
   {
    "duration": 1224,
    "start_time": "2021-12-26T19:06:35.421Z"
   },
   {
    "duration": 36,
    "start_time": "2021-12-26T19:06:36.647Z"
   },
   {
    "duration": 6,
    "start_time": "2021-12-26T19:06:36.685Z"
   },
   {
    "duration": 8,
    "start_time": "2021-12-26T19:06:36.693Z"
   },
   {
    "duration": 24,
    "start_time": "2021-12-26T19:06:36.702Z"
   },
   {
    "duration": 8,
    "start_time": "2021-12-26T19:06:36.740Z"
   },
   {
    "duration": 11,
    "start_time": "2021-12-26T19:06:36.749Z"
   },
   {
    "duration": 45,
    "start_time": "2021-12-26T19:06:36.762Z"
   },
   {
    "duration": 5,
    "start_time": "2021-12-26T19:06:36.809Z"
   },
   {
    "duration": 30,
    "start_time": "2021-12-26T19:06:36.815Z"
   },
   {
    "duration": 11,
    "start_time": "2021-12-26T19:06:36.847Z"
   },
   {
    "duration": 2735,
    "start_time": "2021-12-26T19:06:36.859Z"
   },
   {
    "duration": 1213,
    "start_time": "2021-12-26T19:06:39.596Z"
   },
   {
    "duration": 7,
    "start_time": "2021-12-26T19:06:40.811Z"
   },
   {
    "duration": 23,
    "start_time": "2021-12-26T19:06:40.820Z"
   },
   {
    "duration": 7,
    "start_time": "2021-12-26T19:06:40.845Z"
   },
   {
    "duration": 17,
    "start_time": "2021-12-26T19:06:40.853Z"
   },
   {
    "duration": 8,
    "start_time": "2021-12-26T19:06:40.872Z"
   },
   {
    "duration": 316,
    "start_time": "2021-12-26T19:06:40.882Z"
   },
   {
    "duration": 8,
    "start_time": "2021-12-26T19:06:41.200Z"
   },
   {
    "duration": 7,
    "start_time": "2021-12-26T19:06:41.210Z"
   },
   {
    "duration": 384,
    "start_time": "2021-12-26T19:06:41.219Z"
   },
   {
    "duration": 198,
    "start_time": "2021-12-26T19:07:33.186Z"
   },
   {
    "duration": 6,
    "start_time": "2021-12-26T19:09:47.920Z"
   },
   {
    "duration": 1091,
    "start_time": "2021-12-26T19:10:53.682Z"
   },
   {
    "duration": 38,
    "start_time": "2021-12-26T19:10:54.775Z"
   },
   {
    "duration": 8,
    "start_time": "2021-12-26T19:10:54.818Z"
   },
   {
    "duration": 14,
    "start_time": "2021-12-26T19:10:54.828Z"
   },
   {
    "duration": 27,
    "start_time": "2021-12-26T19:10:54.844Z"
   },
   {
    "duration": 7,
    "start_time": "2021-12-26T19:10:54.873Z"
   },
   {
    "duration": 13,
    "start_time": "2021-12-26T19:10:54.884Z"
   },
   {
    "duration": 92,
    "start_time": "2021-12-26T19:10:54.899Z"
   },
   {
    "duration": 8,
    "start_time": "2021-12-26T19:10:54.993Z"
   },
   {
    "duration": 11,
    "start_time": "2021-12-26T19:10:55.003Z"
   },
   {
    "duration": 28,
    "start_time": "2021-12-26T19:10:55.016Z"
   },
   {
    "duration": 2790,
    "start_time": "2021-12-26T19:10:55.046Z"
   },
   {
    "duration": 1173,
    "start_time": "2021-12-26T19:10:57.838Z"
   },
   {
    "duration": 8,
    "start_time": "2021-12-26T19:10:59.012Z"
   },
   {
    "duration": 23,
    "start_time": "2021-12-26T19:10:59.021Z"
   },
   {
    "duration": 6,
    "start_time": "2021-12-26T19:10:59.045Z"
   },
   {
    "duration": 9,
    "start_time": "2021-12-26T19:10:59.053Z"
   },
   {
    "duration": 9,
    "start_time": "2021-12-26T19:10:59.064Z"
   },
   {
    "duration": 326,
    "start_time": "2021-12-26T19:10:59.075Z"
   },
   {
    "duration": 9,
    "start_time": "2021-12-26T19:10:59.403Z"
   },
   {
    "duration": 8,
    "start_time": "2021-12-26T19:12:38.680Z"
   },
   {
    "duration": 80032,
    "start_time": "2021-12-26T19:12:38.690Z"
   },
   {
    "duration": 7,
    "start_time": "2021-12-26T19:15:53.783Z"
   },
   {
    "duration": 1696,
    "start_time": "2021-12-26T19:22:21.752Z"
   },
   {
    "duration": 313,
    "start_time": "2021-12-26T19:26:35.417Z"
   },
   {
    "duration": 1191,
    "start_time": "2021-12-26T19:26:49.756Z"
   },
   {
    "duration": 1829,
    "start_time": "2021-12-26T19:31:32.025Z"
   },
   {
    "duration": 4,
    "start_time": "2021-12-26T19:35:20.165Z"
   },
   {
    "duration": 7,
    "start_time": "2021-12-26T19:35:23.745Z"
   },
   {
    "duration": 78601,
    "start_time": "2021-12-26T19:35:35.221Z"
   },
   {
    "duration": 1423,
    "start_time": "2021-12-26T19:36:53.823Z"
   },
   {
    "duration": 225,
    "start_time": "2021-12-26T19:36:55.249Z"
   },
   {
    "duration": 40,
    "start_time": "2021-12-26T19:36:55.436Z"
   },
   {
    "duration": 1196,
    "start_time": "2021-12-26T19:36:57.820Z"
   },
   {
    "duration": 33,
    "start_time": "2021-12-26T19:36:59.018Z"
   },
   {
    "duration": 7,
    "start_time": "2021-12-26T19:36:59.053Z"
   },
   {
    "duration": 7,
    "start_time": "2021-12-26T19:36:59.062Z"
   },
   {
    "duration": 22,
    "start_time": "2021-12-26T19:36:59.071Z"
   },
   {
    "duration": 8,
    "start_time": "2021-12-26T19:36:59.094Z"
   },
   {
    "duration": 40,
    "start_time": "2021-12-26T19:36:59.103Z"
   },
   {
    "duration": 42,
    "start_time": "2021-12-26T19:36:59.146Z"
   },
   {
    "duration": 5,
    "start_time": "2021-12-26T19:36:59.190Z"
   },
   {
    "duration": 12,
    "start_time": "2021-12-26T19:36:59.196Z"
   },
   {
    "duration": 6,
    "start_time": "2021-12-26T19:36:59.209Z"
   },
   {
    "duration": 2735,
    "start_time": "2021-12-26T19:36:59.241Z"
   },
   {
    "duration": 1160,
    "start_time": "2021-12-26T19:37:01.977Z"
   },
   {
    "duration": 8,
    "start_time": "2021-12-26T19:37:03.141Z"
   },
   {
    "duration": 18,
    "start_time": "2021-12-26T19:37:03.150Z"
   },
   {
    "duration": 24,
    "start_time": "2021-12-26T19:37:03.169Z"
   },
   {
    "duration": 28,
    "start_time": "2021-12-26T19:37:03.194Z"
   },
   {
    "duration": 7,
    "start_time": "2021-12-26T19:37:03.224Z"
   },
   {
    "duration": 309,
    "start_time": "2021-12-26T19:37:03.232Z"
   },
   {
    "duration": 7,
    "start_time": "2021-12-26T19:37:03.542Z"
   },
   {
    "duration": 4,
    "start_time": "2021-12-26T19:37:03.551Z"
   },
   {
    "duration": 8,
    "start_time": "2021-12-26T19:37:03.556Z"
   },
   {
    "duration": 77553,
    "start_time": "2021-12-26T19:37:03.566Z"
   },
   {
    "duration": 1435,
    "start_time": "2021-12-26T19:38:21.121Z"
   },
   {
    "duration": 17,
    "start_time": "2021-12-26T19:46:13.465Z"
   },
   {
    "duration": 17,
    "start_time": "2021-12-26T19:46:30.137Z"
   },
   {
    "duration": 6,
    "start_time": "2021-12-26T19:46:43.185Z"
   },
   {
    "duration": 6,
    "start_time": "2021-12-26T19:47:17.089Z"
   },
   {
    "duration": 7,
    "start_time": "2021-12-26T19:47:28.401Z"
   },
   {
    "duration": 1332,
    "start_time": "2021-12-26T20:02:20.987Z"
   },
   {
    "duration": 1662,
    "start_time": "2021-12-26T20:02:31.618Z"
   },
   {
    "duration": 1300,
    "start_time": "2021-12-26T20:07:17.077Z"
   },
   {
    "duration": 456,
    "start_time": "2021-12-26T20:07:34.192Z"
   },
   {
    "duration": 194415,
    "start_time": "2021-12-26T20:07:44.545Z"
   },
   {
    "duration": 352,
    "start_time": "2021-12-26T20:14:14.601Z"
   },
   {
    "duration": 1159,
    "start_time": "2021-12-26T20:15:29.893Z"
   },
   {
    "duration": 39,
    "start_time": "2021-12-26T20:15:31.053Z"
   },
   {
    "duration": 7,
    "start_time": "2021-12-26T20:15:31.094Z"
   },
   {
    "duration": 15,
    "start_time": "2021-12-26T20:15:31.102Z"
   },
   {
    "duration": 28,
    "start_time": "2021-12-26T20:15:31.118Z"
   },
   {
    "duration": 6,
    "start_time": "2021-12-26T20:15:31.148Z"
   },
   {
    "duration": 13,
    "start_time": "2021-12-26T20:15:31.156Z"
   },
   {
    "duration": 41,
    "start_time": "2021-12-26T20:15:31.171Z"
   },
   {
    "duration": 5,
    "start_time": "2021-12-26T20:15:31.214Z"
   },
   {
    "duration": 28,
    "start_time": "2021-12-26T20:15:31.220Z"
   },
   {
    "duration": 6,
    "start_time": "2021-12-26T20:15:31.250Z"
   },
   {
    "duration": 2783,
    "start_time": "2021-12-26T20:15:31.258Z"
   },
   {
    "duration": 1224,
    "start_time": "2021-12-26T20:15:34.042Z"
   },
   {
    "duration": 8,
    "start_time": "2021-12-26T20:15:35.268Z"
   },
   {
    "duration": 10,
    "start_time": "2021-12-26T20:15:35.278Z"
   },
   {
    "duration": 8,
    "start_time": "2021-12-26T20:15:35.289Z"
   },
   {
    "duration": 14,
    "start_time": "2021-12-26T20:15:35.299Z"
   },
   {
    "duration": 29,
    "start_time": "2021-12-26T20:15:35.315Z"
   },
   {
    "duration": 327,
    "start_time": "2021-12-26T20:15:35.346Z"
   },
   {
    "duration": 7,
    "start_time": "2021-12-26T20:15:35.675Z"
   },
   {
    "duration": 3,
    "start_time": "2021-12-26T20:15:35.684Z"
   },
   {
    "duration": 8,
    "start_time": "2021-12-26T20:15:35.689Z"
   },
   {
    "duration": 76259,
    "start_time": "2021-12-26T20:15:35.700Z"
   },
   {
    "duration": 1283,
    "start_time": "2021-12-26T20:16:51.961Z"
   },
   {
    "duration": 14,
    "start_time": "2021-12-26T20:16:53.340Z"
   },
   {
    "duration": 5,
    "start_time": "2021-12-26T20:16:53.355Z"
   },
   {
    "duration": 511,
    "start_time": "2021-12-26T20:16:53.362Z"
   },
   {
    "duration": 387,
    "start_time": "2021-12-26T20:17:14.499Z"
   },
   {
    "duration": 346,
    "start_time": "2021-12-26T20:20:34.910Z"
   },
   {
    "duration": 724,
    "start_time": "2021-12-26T20:21:19.854Z"
   },
   {
    "duration": 351,
    "start_time": "2021-12-26T20:21:24.421Z"
   },
   {
    "duration": 1130,
    "start_time": "2021-12-26T20:24:08.211Z"
   },
   {
    "duration": 34,
    "start_time": "2021-12-26T20:24:09.343Z"
   },
   {
    "duration": 7,
    "start_time": "2021-12-26T20:24:09.380Z"
   },
   {
    "duration": 7,
    "start_time": "2021-12-26T20:24:09.389Z"
   },
   {
    "duration": 22,
    "start_time": "2021-12-26T20:24:09.398Z"
   },
   {
    "duration": 8,
    "start_time": "2021-12-26T20:24:09.441Z"
   },
   {
    "duration": 9,
    "start_time": "2021-12-26T20:24:09.451Z"
   },
   {
    "duration": 40,
    "start_time": "2021-12-26T20:24:09.462Z"
   },
   {
    "duration": 4,
    "start_time": "2021-12-26T20:24:09.504Z"
   },
   {
    "duration": 32,
    "start_time": "2021-12-26T20:24:09.510Z"
   },
   {
    "duration": 6,
    "start_time": "2021-12-26T20:24:09.543Z"
   },
   {
    "duration": 2603,
    "start_time": "2021-12-26T20:24:09.551Z"
   },
   {
    "duration": 1133,
    "start_time": "2021-12-26T20:24:12.156Z"
   },
   {
    "duration": 8,
    "start_time": "2021-12-26T20:24:13.290Z"
   },
   {
    "duration": 11,
    "start_time": "2021-12-26T20:24:13.299Z"
   },
   {
    "duration": 8,
    "start_time": "2021-12-26T20:24:13.311Z"
   },
   {
    "duration": 25,
    "start_time": "2021-12-26T20:24:13.321Z"
   },
   {
    "duration": 6,
    "start_time": "2021-12-26T20:24:13.348Z"
   },
   {
    "duration": 306,
    "start_time": "2021-12-26T20:24:13.356Z"
   },
   {
    "duration": 7,
    "start_time": "2021-12-26T20:24:13.664Z"
   },
   {
    "duration": 4,
    "start_time": "2021-12-26T20:24:13.673Z"
   },
   {
    "duration": 8,
    "start_time": "2021-12-26T20:24:13.678Z"
   },
   {
    "duration": 77541,
    "start_time": "2021-12-26T20:24:13.688Z"
   },
   {
    "duration": 1510,
    "start_time": "2021-12-26T20:25:31.232Z"
   },
   {
    "duration": 101,
    "start_time": "2021-12-26T20:25:32.744Z"
   },
   {
    "duration": 6,
    "start_time": "2021-12-26T20:25:32.847Z"
   },
   {
    "duration": 416,
    "start_time": "2021-12-26T20:28:47.862Z"
   },
   {
    "duration": 486,
    "start_time": "2021-12-26T20:28:58.527Z"
   },
   {
    "duration": 1147,
    "start_time": "2021-12-26T20:29:09.404Z"
   },
   {
    "duration": 35,
    "start_time": "2021-12-26T20:29:10.552Z"
   },
   {
    "duration": 7,
    "start_time": "2021-12-26T20:29:10.589Z"
   },
   {
    "duration": 9,
    "start_time": "2021-12-26T20:29:10.598Z"
   },
   {
    "duration": 20,
    "start_time": "2021-12-26T20:29:10.609Z"
   },
   {
    "duration": 16,
    "start_time": "2021-12-26T20:29:10.631Z"
   },
   {
    "duration": 10,
    "start_time": "2021-12-26T20:29:10.649Z"
   },
   {
    "duration": 41,
    "start_time": "2021-12-26T20:29:10.661Z"
   },
   {
    "duration": 6,
    "start_time": "2021-12-26T20:29:10.704Z"
   },
   {
    "duration": 36,
    "start_time": "2021-12-26T20:29:10.711Z"
   },
   {
    "duration": 7,
    "start_time": "2021-12-26T20:29:10.749Z"
   },
   {
    "duration": 2752,
    "start_time": "2021-12-26T20:29:10.757Z"
   },
   {
    "duration": 1204,
    "start_time": "2021-12-26T20:29:13.511Z"
   },
   {
    "duration": 7,
    "start_time": "2021-12-26T20:29:14.717Z"
   },
   {
    "duration": 15,
    "start_time": "2021-12-26T20:29:14.726Z"
   },
   {
    "duration": 11,
    "start_time": "2021-12-26T20:29:14.743Z"
   },
   {
    "duration": 12,
    "start_time": "2021-12-26T20:29:14.756Z"
   },
   {
    "duration": 7,
    "start_time": "2021-12-26T20:29:14.769Z"
   },
   {
    "duration": 317,
    "start_time": "2021-12-26T20:29:14.778Z"
   },
   {
    "duration": 8,
    "start_time": "2021-12-26T20:29:15.097Z"
   },
   {
    "duration": 3,
    "start_time": "2021-12-26T20:29:15.107Z"
   },
   {
    "duration": 15,
    "start_time": "2021-12-26T20:29:15.112Z"
   },
   {
    "duration": 1134,
    "start_time": "2021-12-26T20:29:56.616Z"
   },
   {
    "duration": 34,
    "start_time": "2021-12-26T20:29:57.752Z"
   },
   {
    "duration": 7,
    "start_time": "2021-12-26T20:29:57.789Z"
   },
   {
    "duration": 11,
    "start_time": "2021-12-26T20:29:57.797Z"
   },
   {
    "duration": 34,
    "start_time": "2021-12-26T20:29:57.809Z"
   },
   {
    "duration": 8,
    "start_time": "2021-12-26T20:29:57.844Z"
   },
   {
    "duration": 11,
    "start_time": "2021-12-26T20:29:57.854Z"
   },
   {
    "duration": 40,
    "start_time": "2021-12-26T20:29:57.867Z"
   },
   {
    "duration": 5,
    "start_time": "2021-12-26T20:29:57.909Z"
   },
   {
    "duration": 34,
    "start_time": "2021-12-26T20:29:57.915Z"
   },
   {
    "duration": 9,
    "start_time": "2021-12-26T20:29:57.951Z"
   },
   {
    "duration": 2885,
    "start_time": "2021-12-26T20:29:57.961Z"
   },
   {
    "duration": 1176,
    "start_time": "2021-12-26T20:30:00.847Z"
   },
   {
    "duration": 16,
    "start_time": "2021-12-26T20:30:02.025Z"
   },
   {
    "duration": 6,
    "start_time": "2021-12-26T20:30:02.042Z"
   },
   {
    "duration": 28,
    "start_time": "2021-12-26T20:30:02.050Z"
   },
   {
    "duration": 32,
    "start_time": "2021-12-26T20:30:02.080Z"
   },
   {
    "duration": 10,
    "start_time": "2021-12-26T20:30:02.114Z"
   },
   {
    "duration": 303,
    "start_time": "2021-12-26T20:30:02.126Z"
   },
   {
    "duration": 11,
    "start_time": "2021-12-26T20:30:02.431Z"
   },
   {
    "duration": 7,
    "start_time": "2021-12-26T20:30:02.444Z"
   },
   {
    "duration": 7,
    "start_time": "2021-12-26T20:30:02.453Z"
   },
   {
    "duration": 1135,
    "start_time": "2021-12-26T20:30:47.045Z"
   },
   {
    "duration": 33,
    "start_time": "2021-12-26T20:30:48.182Z"
   },
   {
    "duration": 6,
    "start_time": "2021-12-26T20:30:48.217Z"
   },
   {
    "duration": 5,
    "start_time": "2021-12-26T20:30:48.225Z"
   },
   {
    "duration": 29,
    "start_time": "2021-12-26T20:30:48.231Z"
   },
   {
    "duration": 6,
    "start_time": "2021-12-26T20:30:48.262Z"
   },
   {
    "duration": 9,
    "start_time": "2021-12-26T20:30:48.270Z"
   },
   {
    "duration": 37,
    "start_time": "2021-12-26T20:30:48.282Z"
   },
   {
    "duration": 23,
    "start_time": "2021-12-26T20:30:48.321Z"
   },
   {
    "duration": 9,
    "start_time": "2021-12-26T20:30:48.346Z"
   },
   {
    "duration": 8,
    "start_time": "2021-12-26T20:30:48.356Z"
   },
   {
    "duration": 4364,
    "start_time": "2021-12-26T20:30:48.365Z"
   },
   {
    "duration": 1126,
    "start_time": "2021-12-26T20:30:52.731Z"
   },
   {
    "duration": 7,
    "start_time": "2021-12-26T20:30:53.859Z"
   },
   {
    "duration": 8,
    "start_time": "2021-12-26T20:30:53.868Z"
   },
   {
    "duration": 8,
    "start_time": "2021-12-26T20:30:53.877Z"
   },
   {
    "duration": 9,
    "start_time": "2021-12-26T20:30:53.887Z"
   },
   {
    "duration": 7,
    "start_time": "2021-12-26T20:30:53.897Z"
   },
   {
    "duration": 316,
    "start_time": "2021-12-26T20:30:53.905Z"
   },
   {
    "duration": 7,
    "start_time": "2021-12-26T20:30:54.222Z"
   },
   {
    "duration": 13,
    "start_time": "2021-12-26T20:30:54.230Z"
   },
   {
    "duration": 7,
    "start_time": "2021-12-26T20:30:54.245Z"
   },
   {
    "duration": 77197,
    "start_time": "2021-12-26T20:30:54.254Z"
   },
   {
    "duration": 1299,
    "start_time": "2021-12-26T20:32:11.452Z"
   },
   {
    "duration": 12,
    "start_time": "2021-12-26T20:32:12.842Z"
   },
   {
    "duration": 5,
    "start_time": "2021-12-26T20:32:12.855Z"
   },
   {
    "duration": 529,
    "start_time": "2021-12-26T20:32:12.862Z"
   },
   {
    "duration": 633,
    "start_time": "2021-12-26T20:32:46.066Z"
   },
   {
    "duration": 565,
    "start_time": "2021-12-26T20:32:56.580Z"
   },
   {
    "duration": 7839,
    "start_time": "2021-12-26T20:33:04.388Z"
   },
   {
    "duration": 326,
    "start_time": "2021-12-26T20:33:42.684Z"
   },
   {
    "duration": 1052,
    "start_time": "2021-12-26T20:37:58.392Z"
   },
   {
    "duration": 35,
    "start_time": "2021-12-26T20:37:59.446Z"
   },
   {
    "duration": 7,
    "start_time": "2021-12-26T20:37:59.483Z"
   },
   {
    "duration": 8,
    "start_time": "2021-12-26T20:37:59.492Z"
   },
   {
    "duration": 22,
    "start_time": "2021-12-26T20:37:59.502Z"
   },
   {
    "duration": 21,
    "start_time": "2021-12-26T20:37:59.526Z"
   },
   {
    "duration": 11,
    "start_time": "2021-12-26T20:37:59.548Z"
   },
   {
    "duration": 47,
    "start_time": "2021-12-26T20:37:59.561Z"
   },
   {
    "duration": 6,
    "start_time": "2021-12-26T20:37:59.610Z"
   },
   {
    "duration": 29,
    "start_time": "2021-12-26T20:37:59.618Z"
   },
   {
    "duration": 7,
    "start_time": "2021-12-26T20:37:59.648Z"
   },
   {
    "duration": 2836,
    "start_time": "2021-12-26T20:37:59.656Z"
   },
   {
    "duration": 1204,
    "start_time": "2021-12-26T20:38:02.494Z"
   },
   {
    "duration": 8,
    "start_time": "2021-12-26T20:38:03.699Z"
   },
   {
    "duration": 7,
    "start_time": "2021-12-26T20:38:03.709Z"
   },
   {
    "duration": 23,
    "start_time": "2021-12-26T20:38:03.718Z"
   },
   {
    "duration": 11,
    "start_time": "2021-12-26T20:38:03.743Z"
   },
   {
    "duration": 8,
    "start_time": "2021-12-26T20:38:03.756Z"
   },
   {
    "duration": 325,
    "start_time": "2021-12-26T20:38:03.765Z"
   },
   {
    "duration": 7,
    "start_time": "2021-12-26T20:38:04.092Z"
   },
   {
    "duration": 3,
    "start_time": "2021-12-26T20:38:04.101Z"
   },
   {
    "duration": 8,
    "start_time": "2021-12-26T20:38:04.106Z"
   },
   {
    "duration": 75437,
    "start_time": "2021-12-26T20:38:04.116Z"
   },
   {
    "duration": 1486,
    "start_time": "2021-12-26T20:39:19.555Z"
   },
   {
    "duration": 97,
    "start_time": "2021-12-26T20:39:21.044Z"
   },
   {
    "duration": 7,
    "start_time": "2021-12-26T20:39:21.143Z"
   },
   {
    "duration": 1100,
    "start_time": "2021-12-26T20:41:35.547Z"
   },
   {
    "duration": 34,
    "start_time": "2021-12-26T20:41:36.649Z"
   },
   {
    "duration": 7,
    "start_time": "2021-12-26T20:41:36.686Z"
   },
   {
    "duration": 8,
    "start_time": "2021-12-26T20:41:36.695Z"
   },
   {
    "duration": 23,
    "start_time": "2021-12-26T20:41:36.705Z"
   },
   {
    "duration": 16,
    "start_time": "2021-12-26T20:41:36.730Z"
   },
   {
    "duration": 9,
    "start_time": "2021-12-26T20:41:36.748Z"
   },
   {
    "duration": 39,
    "start_time": "2021-12-26T20:41:36.759Z"
   },
   {
    "duration": 5,
    "start_time": "2021-12-26T20:41:36.800Z"
   },
   {
    "duration": 35,
    "start_time": "2021-12-26T20:41:36.807Z"
   },
   {
    "duration": 7,
    "start_time": "2021-12-26T20:41:36.844Z"
   },
   {
    "duration": 2550,
    "start_time": "2021-12-26T20:41:36.852Z"
   },
   {
    "duration": 1146,
    "start_time": "2021-12-26T20:41:39.404Z"
   },
   {
    "duration": 10,
    "start_time": "2021-12-26T20:41:40.552Z"
   },
   {
    "duration": 7,
    "start_time": "2021-12-26T20:41:40.563Z"
   },
   {
    "duration": 7,
    "start_time": "2021-12-26T20:41:40.572Z"
   },
   {
    "duration": 16,
    "start_time": "2021-12-26T20:41:40.580Z"
   },
   {
    "duration": 8,
    "start_time": "2021-12-26T20:41:40.598Z"
   },
   {
    "duration": 323,
    "start_time": "2021-12-26T20:41:40.607Z"
   },
   {
    "duration": 12,
    "start_time": "2021-12-26T20:41:40.932Z"
   },
   {
    "duration": 4,
    "start_time": "2021-12-26T20:41:40.946Z"
   },
   {
    "duration": 8,
    "start_time": "2021-12-26T20:41:40.951Z"
   },
   {
    "duration": 75322,
    "start_time": "2021-12-26T20:41:40.960Z"
   },
   {
    "duration": 1362,
    "start_time": "2021-12-26T20:42:56.284Z"
   },
   {
    "duration": 105,
    "start_time": "2021-12-26T20:42:57.648Z"
   },
   {
    "duration": 6,
    "start_time": "2021-12-26T20:42:57.754Z"
   },
   {
    "duration": 199518,
    "start_time": "2021-12-26T20:42:57.762Z"
   },
   {
    "duration": 2152,
    "start_time": "2021-12-26T21:14:41.173Z"
   },
   {
    "duration": 2216,
    "start_time": "2021-12-26T21:15:44.865Z"
   },
   {
    "duration": 2193,
    "start_time": "2021-12-26T21:16:17.165Z"
   },
   {
    "duration": 11,
    "start_time": "2021-12-26T21:19:11.366Z"
   },
   {
    "duration": 297,
    "start_time": "2021-12-26T21:19:19.238Z"
   },
   {
    "duration": 10,
    "start_time": "2021-12-26T21:19:31.290Z"
   },
   {
    "duration": 11,
    "start_time": "2021-12-26T21:19:52.086Z"
   },
   {
    "duration": 67,
    "start_time": "2021-12-26T21:20:10.670Z"
   },
   {
    "duration": 12,
    "start_time": "2021-12-26T21:20:18.682Z"
   },
   {
    "duration": 11,
    "start_time": "2021-12-26T21:20:36.390Z"
   },
   {
    "duration": 11,
    "start_time": "2021-12-26T21:20:53.362Z"
   },
   {
    "duration": 66,
    "start_time": "2021-12-26T21:25:24.888Z"
   },
   {
    "duration": 13,
    "start_time": "2021-12-26T21:26:14.962Z"
   },
   {
    "duration": 11,
    "start_time": "2021-12-26T21:26:30.743Z"
   },
   {
    "duration": 11,
    "start_time": "2021-12-26T21:27:45.148Z"
   },
   {
    "duration": 6,
    "start_time": "2021-12-26T21:32:52.064Z"
   },
   {
    "duration": 1129,
    "start_time": "2021-12-26T22:09:26.288Z"
   },
   {
    "duration": 36,
    "start_time": "2021-12-26T22:09:27.419Z"
   },
   {
    "duration": 8,
    "start_time": "2021-12-26T22:09:27.457Z"
   },
   {
    "duration": 8,
    "start_time": "2021-12-26T22:09:27.467Z"
   },
   {
    "duration": 22,
    "start_time": "2021-12-26T22:09:27.477Z"
   },
   {
    "duration": 8,
    "start_time": "2021-12-26T22:09:27.501Z"
   },
   {
    "duration": 39,
    "start_time": "2021-12-26T22:09:27.510Z"
   },
   {
    "duration": 39,
    "start_time": "2021-12-26T22:09:27.551Z"
   },
   {
    "duration": 6,
    "start_time": "2021-12-26T22:09:27.593Z"
   },
   {
    "duration": 40,
    "start_time": "2021-12-26T22:09:27.601Z"
   },
   {
    "duration": 8,
    "start_time": "2021-12-26T22:09:27.643Z"
   },
   {
    "duration": 2641,
    "start_time": "2021-12-26T22:09:27.653Z"
   },
   {
    "duration": 1150,
    "start_time": "2021-12-26T22:09:30.295Z"
   },
   {
    "duration": 8,
    "start_time": "2021-12-26T22:09:31.447Z"
   },
   {
    "duration": 17,
    "start_time": "2021-12-26T22:09:31.456Z"
   },
   {
    "duration": 14,
    "start_time": "2021-12-26T22:09:31.475Z"
   },
   {
    "duration": 13,
    "start_time": "2021-12-26T22:09:31.491Z"
   },
   {
    "duration": 24,
    "start_time": "2021-12-26T22:09:31.506Z"
   },
   {
    "duration": 301,
    "start_time": "2021-12-26T22:09:31.532Z"
   },
   {
    "duration": 11,
    "start_time": "2021-12-26T22:09:31.835Z"
   },
   {
    "duration": 40,
    "start_time": "2021-12-26T22:09:31.847Z"
   },
   {
    "duration": 19,
    "start_time": "2021-12-26T22:09:31.889Z"
   },
   {
    "duration": 83048,
    "start_time": "2021-12-26T22:09:31.910Z"
   },
   {
    "duration": 1381,
    "start_time": "2021-12-26T22:10:54.960Z"
   },
   {
    "duration": 14,
    "start_time": "2021-12-26T22:10:56.343Z"
   },
   {
    "duration": 5,
    "start_time": "2021-12-26T22:10:56.359Z"
   },
   {
    "duration": 1543,
    "start_time": "2021-12-27T19:06:34.556Z"
   },
   {
    "duration": 76,
    "start_time": "2021-12-27T19:06:36.101Z"
   },
   {
    "duration": 11,
    "start_time": "2021-12-27T19:06:36.180Z"
   },
   {
    "duration": 10,
    "start_time": "2021-12-27T19:06:36.194Z"
   },
   {
    "duration": 137,
    "start_time": "2021-12-27T19:06:36.207Z"
   },
   {
    "duration": 12,
    "start_time": "2021-12-27T19:06:36.346Z"
   },
   {
    "duration": 20,
    "start_time": "2021-12-27T19:06:36.360Z"
   },
   {
    "duration": 100,
    "start_time": "2021-12-27T19:06:36.382Z"
   },
   {
    "duration": 28,
    "start_time": "2021-12-27T19:06:36.488Z"
   },
   {
    "duration": 17,
    "start_time": "2021-12-27T19:06:36.521Z"
   },
   {
    "duration": 13,
    "start_time": "2021-12-27T19:06:36.540Z"
   },
   {
    "duration": 4679,
    "start_time": "2021-12-27T19:06:36.556Z"
   },
   {
    "duration": 1875,
    "start_time": "2021-12-27T19:06:41.237Z"
   },
   {
    "duration": 12,
    "start_time": "2021-12-27T19:06:43.117Z"
   },
   {
    "duration": 8,
    "start_time": "2021-12-27T19:06:43.131Z"
   },
   {
    "duration": 9,
    "start_time": "2021-12-27T19:06:43.142Z"
   },
   {
    "duration": 19,
    "start_time": "2021-12-27T19:06:43.153Z"
   },
   {
    "duration": 52,
    "start_time": "2021-12-27T19:06:43.175Z"
   },
   {
    "duration": 494,
    "start_time": "2021-12-27T19:06:43.229Z"
   },
   {
    "duration": 12,
    "start_time": "2021-12-27T19:06:43.725Z"
   },
   {
    "duration": 5,
    "start_time": "2021-12-27T19:06:43.739Z"
   },
   {
    "duration": 9,
    "start_time": "2021-12-27T19:06:43.746Z"
   },
   {
    "duration": 140062,
    "start_time": "2021-12-27T19:06:43.757Z"
   },
   {
    "duration": 1926,
    "start_time": "2021-12-27T19:09:03.822Z"
   },
   {
    "duration": 20,
    "start_time": "2021-12-27T19:09:05.750Z"
   },
   {
    "duration": 8,
    "start_time": "2021-12-27T19:09:05.772Z"
   },
   {
    "duration": 324561,
    "start_time": "2021-12-27T19:09:05.784Z"
   },
   {
    "duration": -41,
    "start_time": "2021-12-27T19:14:30.389Z"
   },
   {
    "duration": -42,
    "start_time": "2021-12-27T19:14:30.392Z"
   },
   {
    "duration": 10,
    "start_time": "2021-12-27T19:14:36.887Z"
   },
   {
    "duration": 17,
    "start_time": "2021-12-27T19:14:37.061Z"
   },
   {
    "duration": 558,
    "start_time": "2021-12-27T19:25:38.216Z"
   },
   {
    "duration": 1693,
    "start_time": "2021-12-27T19:25:47.687Z"
   },
   {
    "duration": 65,
    "start_time": "2021-12-27T19:25:49.383Z"
   },
   {
    "duration": 17,
    "start_time": "2021-12-27T19:25:49.451Z"
   },
   {
    "duration": 11,
    "start_time": "2021-12-27T19:25:49.471Z"
   },
   {
    "duration": 74,
    "start_time": "2021-12-27T19:25:49.484Z"
   },
   {
    "duration": 37,
    "start_time": "2021-12-27T19:25:49.561Z"
   },
   {
    "duration": 19,
    "start_time": "2021-12-27T19:25:49.601Z"
   },
   {
    "duration": 106,
    "start_time": "2021-12-27T19:25:49.624Z"
   },
   {
    "duration": 11,
    "start_time": "2021-12-27T19:25:49.733Z"
   },
   {
    "duration": 24,
    "start_time": "2021-12-27T19:25:49.747Z"
   },
   {
    "duration": 13,
    "start_time": "2021-12-27T19:25:49.774Z"
   },
   {
    "duration": 5232,
    "start_time": "2021-12-27T19:25:49.791Z"
   },
   {
    "duration": 1873,
    "start_time": "2021-12-27T19:25:55.026Z"
   },
   {
    "duration": 30,
    "start_time": "2021-12-27T19:25:56.902Z"
   },
   {
    "duration": 19,
    "start_time": "2021-12-27T19:25:56.937Z"
   },
   {
    "duration": 10,
    "start_time": "2021-12-27T19:25:56.958Z"
   },
   {
    "duration": 21,
    "start_time": "2021-12-27T19:25:56.971Z"
   },
   {
    "duration": 41,
    "start_time": "2021-12-27T19:25:56.994Z"
   },
   {
    "duration": 611,
    "start_time": "2021-12-27T19:25:57.039Z"
   },
   {
    "duration": 12,
    "start_time": "2021-12-27T19:25:57.653Z"
   },
   {
    "duration": 9,
    "start_time": "2021-12-27T19:25:57.668Z"
   },
   {
    "duration": 17,
    "start_time": "2021-12-27T19:25:57.680Z"
   },
   {
    "duration": 150271,
    "start_time": "2021-12-27T19:25:57.701Z"
   },
   {
    "duration": 1748,
    "start_time": "2021-12-27T19:28:27.975Z"
   },
   {
    "duration": 28,
    "start_time": "2021-12-27T19:28:29.727Z"
   },
   {
    "duration": 11,
    "start_time": "2021-12-27T19:28:29.758Z"
   },
   {
    "duration": 368959,
    "start_time": "2021-12-27T19:28:29.772Z"
   },
   {
    "duration": 9,
    "start_time": "2021-12-27T19:34:38.733Z"
   },
   {
    "duration": 39,
    "start_time": "2021-12-27T19:34:38.748Z"
   },
   {
    "duration": 16,
    "start_time": "2021-12-27T19:50:53.229Z"
   },
   {
    "duration": 19,
    "start_time": "2021-12-27T19:50:54.266Z"
   },
   {
    "duration": 530,
    "start_time": "2021-12-27T19:50:55.139Z"
   },
   {
    "duration": 6,
    "start_time": "2021-12-27T19:50:56.139Z"
   },
   {
    "duration": 17,
    "start_time": "2021-12-27T19:50:58.674Z"
   },
   {
    "duration": 18,
    "start_time": "2021-12-27T19:51:32.254Z"
   },
   {
    "duration": 1721,
    "start_time": "2021-12-27T19:59:12.433Z"
   },
   {
    "duration": 43,
    "start_time": "2021-12-27T19:59:14.157Z"
   },
   {
    "duration": 26,
    "start_time": "2021-12-27T19:59:14.204Z"
   },
   {
    "duration": 10,
    "start_time": "2021-12-27T19:59:14.232Z"
   },
   {
    "duration": 34,
    "start_time": "2021-12-27T19:59:14.245Z"
   },
   {
    "duration": 55,
    "start_time": "2021-12-27T19:59:14.282Z"
   },
   {
    "duration": 16,
    "start_time": "2021-12-27T19:59:14.340Z"
   },
   {
    "duration": 95,
    "start_time": "2021-12-27T19:59:14.362Z"
   },
   {
    "duration": 8,
    "start_time": "2021-12-27T19:59:14.461Z"
   },
   {
    "duration": 16,
    "start_time": "2021-12-27T19:59:14.472Z"
   },
   {
    "duration": 38,
    "start_time": "2021-12-27T19:59:14.490Z"
   },
   {
    "duration": 5849,
    "start_time": "2021-12-27T19:59:14.530Z"
   },
   {
    "duration": 2586,
    "start_time": "2021-12-27T19:59:20.382Z"
   },
   {
    "duration": 15,
    "start_time": "2021-12-27T19:59:22.971Z"
   },
   {
    "duration": 39,
    "start_time": "2021-12-27T19:59:22.989Z"
   },
   {
    "duration": 20,
    "start_time": "2021-12-27T19:59:23.031Z"
   },
   {
    "duration": 39,
    "start_time": "2021-12-27T19:59:23.054Z"
   },
   {
    "duration": 843,
    "start_time": "2021-12-27T19:59:23.096Z"
   },
   {
    "duration": 7,
    "start_time": "2021-12-27T19:59:23.942Z"
   },
   {
    "duration": 17,
    "start_time": "2021-12-27T19:59:23.952Z"
   },
   {
    "duration": 6,
    "start_time": "2021-12-27T19:59:23.971Z"
   },
   {
    "duration": 10,
    "start_time": "2021-12-27T19:59:23.979Z"
   },
   {
    "duration": 138949,
    "start_time": "2021-12-27T19:59:24.025Z"
   },
   {
    "duration": 1952,
    "start_time": "2021-12-27T20:01:42.977Z"
   },
   {
    "duration": 20,
    "start_time": "2021-12-27T20:01:44.932Z"
   },
   {
    "duration": 8,
    "start_time": "2021-12-27T20:01:44.955Z"
   },
   {
    "duration": 1233,
    "start_time": "2022-02-15T20:45:04.902Z"
   },
   {
    "duration": 31,
    "start_time": "2022-02-15T20:45:06.138Z"
   },
   {
    "duration": 6,
    "start_time": "2022-02-15T20:45:06.171Z"
   },
   {
    "duration": 6,
    "start_time": "2022-02-15T20:45:06.179Z"
   },
   {
    "duration": 20,
    "start_time": "2022-02-15T20:45:06.187Z"
   },
   {
    "duration": 27,
    "start_time": "2022-02-15T20:45:06.209Z"
   },
   {
    "duration": 10,
    "start_time": "2022-02-15T20:45:06.237Z"
   },
   {
    "duration": 37,
    "start_time": "2022-02-15T20:45:06.248Z"
   },
   {
    "duration": 4,
    "start_time": "2022-02-15T20:45:06.288Z"
   },
   {
    "duration": 10,
    "start_time": "2022-02-15T20:45:06.294Z"
   },
   {
    "duration": 31,
    "start_time": "2022-02-15T20:45:06.305Z"
   },
   {
    "duration": 2556,
    "start_time": "2022-02-15T20:45:06.337Z"
   },
   {
    "duration": 1138,
    "start_time": "2022-02-15T20:45:08.895Z"
   },
   {
    "duration": 8,
    "start_time": "2022-02-15T20:45:10.034Z"
   },
   {
    "duration": 7,
    "start_time": "2022-02-15T20:45:10.044Z"
   },
   {
    "duration": 5,
    "start_time": "2022-02-15T20:45:10.053Z"
   },
   {
    "duration": 11,
    "start_time": "2022-02-15T20:45:10.060Z"
   },
   {
    "duration": 311,
    "start_time": "2022-02-15T20:45:10.073Z"
   },
   {
    "duration": 3,
    "start_time": "2022-02-15T20:45:10.386Z"
   },
   {
    "duration": 11,
    "start_time": "2022-02-15T20:45:10.390Z"
   },
   {
    "duration": 3,
    "start_time": "2022-02-15T20:45:10.403Z"
   },
   {
    "duration": 6,
    "start_time": "2022-02-15T20:45:10.407Z"
   },
   {
    "duration": 75194,
    "start_time": "2022-02-15T20:45:10.414Z"
   },
   {
    "duration": 1228,
    "start_time": "2022-02-15T20:46:25.610Z"
   },
   {
    "duration": 97,
    "start_time": "2022-02-15T20:46:26.840Z"
   },
   {
    "duration": 6,
    "start_time": "2022-02-15T20:46:26.939Z"
   },
   {
    "duration": 193123,
    "start_time": "2022-02-15T20:46:26.948Z"
   },
   {
    "duration": 5,
    "start_time": "2022-02-15T20:49:40.073Z"
   },
   {
    "duration": 10,
    "start_time": "2022-02-15T20:49:40.080Z"
   },
   {
    "duration": 1111,
    "start_time": "2022-02-15T20:51:57.514Z"
   },
   {
    "duration": 33,
    "start_time": "2022-02-15T20:51:58.627Z"
   },
   {
    "duration": 8,
    "start_time": "2022-02-15T20:51:58.661Z"
   },
   {
    "duration": 7,
    "start_time": "2022-02-15T20:51:58.671Z"
   },
   {
    "duration": 22,
    "start_time": "2022-02-15T20:51:58.680Z"
   },
   {
    "duration": 29,
    "start_time": "2022-02-15T20:51:58.704Z"
   },
   {
    "duration": 12,
    "start_time": "2022-02-15T20:51:58.734Z"
   },
   {
    "duration": 38,
    "start_time": "2022-02-15T20:51:58.749Z"
   },
   {
    "duration": 5,
    "start_time": "2022-02-15T20:51:58.790Z"
   },
   {
    "duration": 43,
    "start_time": "2022-02-15T20:51:58.797Z"
   },
   {
    "duration": 8,
    "start_time": "2022-02-15T20:51:58.841Z"
   },
   {
    "duration": 2659,
    "start_time": "2022-02-15T20:51:58.851Z"
   },
   {
    "duration": 1135,
    "start_time": "2022-02-15T20:52:01.513Z"
   },
   {
    "duration": 8,
    "start_time": "2022-02-15T20:52:02.649Z"
   },
   {
    "duration": 8,
    "start_time": "2022-02-15T20:52:02.659Z"
   },
   {
    "duration": 7,
    "start_time": "2022-02-15T20:52:02.668Z"
   },
   {
    "duration": 10,
    "start_time": "2022-02-15T20:52:02.677Z"
   },
   {
    "duration": 320,
    "start_time": "2022-02-15T20:52:02.688Z"
   },
   {
    "duration": 3,
    "start_time": "2022-02-15T20:52:03.010Z"
   },
   {
    "duration": 21,
    "start_time": "2022-02-15T20:52:03.014Z"
   },
   {
    "duration": 4,
    "start_time": "2022-02-15T20:52:03.036Z"
   },
   {
    "duration": 8,
    "start_time": "2022-02-15T20:52:03.041Z"
   },
   {
    "duration": 76581,
    "start_time": "2022-02-15T20:52:03.052Z"
   },
   {
    "duration": 1396,
    "start_time": "2022-02-15T20:53:19.636Z"
   },
   {
    "duration": 102,
    "start_time": "2022-02-15T20:53:21.038Z"
   },
   {
    "duration": 5,
    "start_time": "2022-02-15T20:53:21.141Z"
   },
   {
    "duration": 1052,
    "start_time": "2022-02-15T20:55:53.366Z"
   },
   {
    "duration": 32,
    "start_time": "2022-02-15T20:55:54.419Z"
   },
   {
    "duration": 6,
    "start_time": "2022-02-15T20:55:54.453Z"
   },
   {
    "duration": 6,
    "start_time": "2022-02-15T20:55:54.460Z"
   },
   {
    "duration": 20,
    "start_time": "2022-02-15T20:55:54.468Z"
   },
   {
    "duration": 6,
    "start_time": "2022-02-15T20:55:54.489Z"
   },
   {
    "duration": 35,
    "start_time": "2022-02-15T20:55:54.497Z"
   },
   {
    "duration": 36,
    "start_time": "2022-02-15T20:55:54.534Z"
   },
   {
    "duration": 4,
    "start_time": "2022-02-15T20:55:54.572Z"
   },
   {
    "duration": 9,
    "start_time": "2022-02-15T20:55:54.578Z"
   },
   {
    "duration": 6,
    "start_time": "2022-02-15T20:55:54.589Z"
   },
   {
    "duration": 2587,
    "start_time": "2022-02-15T20:55:54.597Z"
   },
   {
    "duration": 1164,
    "start_time": "2022-02-15T20:55:57.185Z"
   },
   {
    "duration": 7,
    "start_time": "2022-02-15T20:55:58.351Z"
   },
   {
    "duration": 6,
    "start_time": "2022-02-15T20:55:58.359Z"
   },
   {
    "duration": 6,
    "start_time": "2022-02-15T20:55:58.366Z"
   },
   {
    "duration": 10,
    "start_time": "2022-02-15T20:55:58.373Z"
   },
   {
    "duration": 373,
    "start_time": "2022-02-15T20:55:58.384Z"
   },
   {
    "duration": 3,
    "start_time": "2022-02-15T20:55:58.759Z"
   },
   {
    "duration": 10,
    "start_time": "2022-02-15T20:55:58.764Z"
   },
   {
    "duration": 3,
    "start_time": "2022-02-15T20:55:58.775Z"
   },
   {
    "duration": 6,
    "start_time": "2022-02-15T20:55:58.780Z"
   },
   {
    "duration": 75547,
    "start_time": "2022-02-15T20:55:58.788Z"
   },
   {
    "duration": 1495,
    "start_time": "2022-02-15T20:57:14.337Z"
   },
   {
    "duration": 12,
    "start_time": "2022-02-15T20:57:15.834Z"
   },
   {
    "duration": 5,
    "start_time": "2022-02-15T20:57:15.848Z"
   },
   {
    "duration": 194945,
    "start_time": "2022-02-15T20:57:15.855Z"
   },
   {
    "duration": 7,
    "start_time": "2022-02-15T21:00:30.802Z"
   },
   {
    "duration": 29,
    "start_time": "2022-02-15T21:00:30.810Z"
   },
   {
    "duration": 7,
    "start_time": "2022-02-15T21:00:30.841Z"
   },
   {
    "duration": 3712,
    "start_time": "2022-02-15T21:25:44.735Z"
   },
   {
    "duration": 149,
    "start_time": "2022-02-15T21:25:48.449Z"
   },
   {
    "duration": 10,
    "start_time": "2022-02-15T21:25:48.600Z"
   },
   {
    "duration": 24,
    "start_time": "2022-02-15T21:25:48.612Z"
   },
   {
    "duration": 21,
    "start_time": "2022-02-15T21:25:48.637Z"
   },
   {
    "duration": 21,
    "start_time": "2022-02-15T21:25:48.659Z"
   },
   {
    "duration": 11,
    "start_time": "2022-02-15T21:25:48.681Z"
   },
   {
    "duration": 63,
    "start_time": "2022-02-15T21:25:48.693Z"
   },
   {
    "duration": 6,
    "start_time": "2022-02-15T21:25:48.758Z"
   },
   {
    "duration": 10,
    "start_time": "2022-02-15T21:25:48.765Z"
   },
   {
    "duration": 15,
    "start_time": "2022-02-15T21:25:48.777Z"
   },
   {
    "duration": 2658,
    "start_time": "2022-02-15T21:25:48.793Z"
   },
   {
    "duration": 1173,
    "start_time": "2022-02-15T21:25:51.452Z"
   },
   {
    "duration": 8,
    "start_time": "2022-02-15T21:25:52.626Z"
   },
   {
    "duration": 17,
    "start_time": "2022-02-15T21:25:52.635Z"
   },
   {
    "duration": 6,
    "start_time": "2022-02-15T21:25:52.653Z"
   },
   {
    "duration": 14,
    "start_time": "2022-02-15T21:25:52.660Z"
   },
   {
    "duration": 294,
    "start_time": "2022-02-15T21:25:52.676Z"
   },
   {
    "duration": 3,
    "start_time": "2022-02-15T21:25:52.971Z"
   },
   {
    "duration": 10,
    "start_time": "2022-02-15T21:25:52.976Z"
   },
   {
    "duration": 4,
    "start_time": "2022-02-15T21:25:52.988Z"
   },
   {
    "duration": 7,
    "start_time": "2022-02-15T21:25:52.994Z"
   },
   {
    "duration": 75807,
    "start_time": "2022-02-15T21:25:53.002Z"
   },
   {
    "duration": 1221,
    "start_time": "2022-02-15T21:27:08.811Z"
   },
   {
    "duration": 101,
    "start_time": "2022-02-15T21:27:10.035Z"
   },
   {
    "duration": 6,
    "start_time": "2022-02-15T21:27:10.138Z"
   },
   {
    "duration": 1075,
    "start_time": "2022-02-15T21:30:10.886Z"
   },
   {
    "duration": 31,
    "start_time": "2022-02-15T21:30:11.962Z"
   },
   {
    "duration": 6,
    "start_time": "2022-02-15T21:30:11.995Z"
   },
   {
    "duration": 7,
    "start_time": "2022-02-15T21:30:12.002Z"
   },
   {
    "duration": 28,
    "start_time": "2022-02-15T21:30:12.011Z"
   },
   {
    "duration": 7,
    "start_time": "2022-02-15T21:30:12.040Z"
   },
   {
    "duration": 9,
    "start_time": "2022-02-15T21:30:12.049Z"
   },
   {
    "duration": 36,
    "start_time": "2022-02-15T21:30:12.060Z"
   },
   {
    "duration": 4,
    "start_time": "2022-02-15T21:30:12.098Z"
   },
   {
    "duration": 33,
    "start_time": "2022-02-15T21:30:12.104Z"
   },
   {
    "duration": 7,
    "start_time": "2022-02-15T21:30:12.138Z"
   },
   {
    "duration": 2508,
    "start_time": "2022-02-15T21:30:12.146Z"
   },
   {
    "duration": 1091,
    "start_time": "2022-02-15T21:30:14.655Z"
   },
   {
    "duration": 7,
    "start_time": "2022-02-15T21:30:15.748Z"
   },
   {
    "duration": 7,
    "start_time": "2022-02-15T21:30:15.757Z"
   },
   {
    "duration": 6,
    "start_time": "2022-02-15T21:30:15.765Z"
   },
   {
    "duration": 9,
    "start_time": "2022-02-15T21:30:15.772Z"
   },
   {
    "duration": 333,
    "start_time": "2022-02-15T21:30:15.783Z"
   },
   {
    "duration": 3,
    "start_time": "2022-02-15T21:30:16.118Z"
   },
   {
    "duration": 16,
    "start_time": "2022-02-15T21:30:16.122Z"
   },
   {
    "duration": 3,
    "start_time": "2022-02-15T21:30:16.140Z"
   },
   {
    "duration": 8,
    "start_time": "2022-02-15T21:30:16.144Z"
   },
   {
    "duration": 73901,
    "start_time": "2022-02-15T21:30:16.155Z"
   },
   {
    "duration": 1375,
    "start_time": "2022-02-15T21:31:30.057Z"
   },
   {
    "duration": 100,
    "start_time": "2022-02-15T21:31:31.434Z"
   },
   {
    "duration": 11,
    "start_time": "2022-02-15T21:31:31.536Z"
   },
   {
    "duration": 2378,
    "start_time": "2022-02-15T21:31:31.548Z"
   },
   {
    "duration": 7,
    "start_time": "2022-02-15T21:31:33.928Z"
   },
   {
    "duration": 10,
    "start_time": "2022-02-15T21:31:33.936Z"
   },
   {
    "duration": 1553,
    "start_time": "2022-02-20T19:11:13.567Z"
   },
   {
    "duration": 70,
    "start_time": "2022-02-20T19:11:15.122Z"
   },
   {
    "duration": 14,
    "start_time": "2022-02-20T19:11:15.197Z"
   },
   {
    "duration": 21,
    "start_time": "2022-02-20T19:11:15.214Z"
   },
   {
    "duration": 40,
    "start_time": "2022-02-20T19:11:15.249Z"
   },
   {
    "duration": 11,
    "start_time": "2022-02-20T19:11:15.292Z"
   },
   {
    "duration": 52,
    "start_time": "2022-02-20T19:11:15.305Z"
   },
   {
    "duration": 72,
    "start_time": "2022-02-20T19:11:15.360Z"
   },
   {
    "duration": 9,
    "start_time": "2022-02-20T19:11:15.449Z"
   },
   {
    "duration": 17,
    "start_time": "2022-02-20T19:11:15.460Z"
   },
   {
    "duration": 11,
    "start_time": "2022-02-20T19:11:15.479Z"
   },
   {
    "duration": 4832,
    "start_time": "2022-02-20T19:11:15.492Z"
   },
   {
    "duration": 1928,
    "start_time": "2022-02-20T19:11:20.327Z"
   },
   {
    "duration": 12,
    "start_time": "2022-02-20T19:11:22.257Z"
   },
   {
    "duration": 16,
    "start_time": "2022-02-20T19:11:22.271Z"
   },
   {
    "duration": 10,
    "start_time": "2022-02-20T19:11:22.290Z"
   },
   {
    "duration": 64,
    "start_time": "2022-02-20T19:11:22.302Z"
   },
   {
    "duration": 513,
    "start_time": "2022-02-20T19:11:22.368Z"
   },
   {
    "duration": 5,
    "start_time": "2022-02-20T19:11:22.883Z"
   },
   {
    "duration": 23,
    "start_time": "2022-02-20T19:11:22.890Z"
   },
   {
    "duration": 5,
    "start_time": "2022-02-20T19:11:22.916Z"
   },
   {
    "duration": 33,
    "start_time": "2022-02-20T19:11:22.924Z"
   },
   {
    "duration": 145557,
    "start_time": "2022-02-20T19:11:22.963Z"
   },
   {
    "duration": 1733,
    "start_time": "2022-02-20T19:13:48.523Z"
   },
   {
    "duration": 21,
    "start_time": "2022-02-20T19:13:50.350Z"
   },
   {
    "duration": 7,
    "start_time": "2022-02-20T19:13:50.374Z"
   },
   {
    "duration": 4333,
    "start_time": "2022-02-20T19:13:50.383Z"
   },
   {
    "duration": 8,
    "start_time": "2022-02-20T19:13:54.718Z"
   },
   {
    "duration": 33,
    "start_time": "2022-02-20T19:13:54.729Z"
   }
  ],
  "kernelspec": {
   "display_name": "Python 3",
   "language": "python",
   "name": "python3"
  },
  "language_info": {
   "codemirror_mode": {
    "name": "ipython",
    "version": 3
   },
   "file_extension": ".py",
   "mimetype": "text/x-python",
   "name": "python",
   "nbconvert_exporter": "python",
   "pygments_lexer": "ipython3",
   "version": "3.7.8"
  },
  "toc": {
   "base_numbering": 1,
   "nav_menu": {},
   "number_sections": true,
   "sideBar": true,
   "skip_h1_title": true,
   "title_cell": "Table of Contents",
   "title_sidebar": "Contents",
   "toc_cell": false,
   "toc_position": {},
   "toc_section_display": true,
   "toc_window_display": false
  }
 },
 "nbformat": 4,
 "nbformat_minor": 2
}
